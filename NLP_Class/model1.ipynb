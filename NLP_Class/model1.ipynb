{
 "cells": [
  {
   "cell_type": "code",
   "execution_count": 9,
   "id": "sapphire-multimedia",
   "metadata": {},
   "outputs": [],
   "source": [
    "import torch\n",
    "import pandas as pd\n",
    "import numpy as np"
   ]
  },
  {
   "cell_type": "code",
   "execution_count": 393,
   "id": "sensitive-incentive",
   "metadata": {},
   "outputs": [],
   "source": [
    "data = pd.read_pickle('event_data.pickle')"
   ]
  },
  {
   "cell_type": "code",
   "execution_count": 394,
   "id": "electronic-clinic",
   "metadata": {},
   "outputs": [
    {
     "data": {
      "text/html": [
       "<div>\n",
       "<style scoped>\n",
       "    .dataframe tbody tr th:only-of-type {\n",
       "        vertical-align: middle;\n",
       "    }\n",
       "\n",
       "    .dataframe tbody tr th {\n",
       "        vertical-align: top;\n",
       "    }\n",
       "\n",
       "    .dataframe thead th {\n",
       "        text-align: right;\n",
       "    }\n",
       "</style>\n",
       "<table border=\"1\" class=\"dataframe\">\n",
       "  <thead>\n",
       "    <tr style=\"text-align: right;\">\n",
       "      <th></th>\n",
       "      <th>time</th>\n",
       "      <th>event</th>\n",
       "      <th>player_sub</th>\n",
       "      <th>main_player</th>\n",
       "      <th>commentary</th>\n",
       "    </tr>\n",
       "  </thead>\n",
       "  <tbody>\n",
       "    <tr>\n",
       "      <th>0</th>\n",
       "      <td>89'</td>\n",
       "      <td>Yellow Card</td>\n",
       "      <td>na</td>\n",
       "      <td>K. Phillips</td>\n",
       "      <td>A hasty challenge from Kalvin Phillips now and his booking is more costly than usual; it is his fifth, earning him a one-match ban.</td>\n",
       "    </tr>\n",
       "    <tr>\n",
       "      <th>1</th>\n",
       "      <td>87'</td>\n",
       "      <td>Substitution</td>\n",
       "      <td>H. Kane</td>\n",
       "      <td>Carlos Vinícius</td>\n",
       "      <td>Harry Kane - who became a father this week - makes way for Tottenham's final change, with Carlos Vinicius on his place.</td>\n",
       "    </tr>\n",
       "    <tr>\n",
       "      <th>2</th>\n",
       "      <td>85'</td>\n",
       "      <td>Yellow Card</td>\n",
       "      <td>na</td>\n",
       "      <td>P. Højbjerg</td>\n",
       "      <td>Hojbjerg picks up a late booking here, as the minutes tick down. Tottenham will be pleased with this though; a winning start to 2021 is just what they need.</td>\n",
       "    </tr>\n",
       "    <tr>\n",
       "      <th>3</th>\n",
       "      <td>78'</td>\n",
       "      <td>Substitution</td>\n",
       "      <td>T. Ndombèlé</td>\n",
       "      <td>Lucas Moura</td>\n",
       "      <td>Tottenham make their second change now, with Ndombele making way for Lucas Moura.</td>\n",
       "    </tr>\n",
       "    <tr>\n",
       "      <th>4</th>\n",
       "      <td>76'</td>\n",
       "      <td>Substitution</td>\n",
       "      <td>H. Winks</td>\n",
       "      <td>M. Sissoko</td>\n",
       "      <td>Lloris gets a glance to this one and Ayling's return ball sails wide of the mark. Moussa Sissoko replaces Winks for the hosts.</td>\n",
       "    </tr>\n",
       "  </tbody>\n",
       "</table>\n",
       "</div>"
      ],
      "text/plain": [
       "  time         event   player_sub      main_player  \\\n",
       "0  89'   Yellow Card           na      K. Phillips   \n",
       "1  87'  Substitution      H. Kane  Carlos Vinícius   \n",
       "2  85'   Yellow Card           na      P. Højbjerg   \n",
       "3  78'  Substitution  T. Ndombèlé      Lucas Moura   \n",
       "4  76'  Substitution     H. Winks       M. Sissoko   \n",
       "\n",
       "                                                                                                                                                     commentary  \n",
       "0                           A hasty challenge from Kalvin Phillips now and his booking is more costly than usual; it is his fifth, earning him a one-match ban.  \n",
       "1                                       Harry Kane - who became a father this week - makes way for Tottenham's final change, with Carlos Vinicius on his place.  \n",
       "2  Hojbjerg picks up a late booking here, as the minutes tick down. Tottenham will be pleased with this though; a winning start to 2021 is just what they need.  \n",
       "3                                                                             Tottenham make their second change now, with Ndombele making way for Lucas Moura.  \n",
       "4                                Lloris gets a glance to this one and Ayling's return ball sails wide of the mark. Moussa Sissoko replaces Winks for the hosts.  "
      ]
     },
     "execution_count": 394,
     "metadata": {},
     "output_type": "execute_result"
    }
   ],
   "source": [
    "data.head()"
   ]
  },
  {
   "cell_type": "code",
   "execution_count": 395,
   "id": "southeast-lambda",
   "metadata": {},
   "outputs": [
    {
     "data": {
      "text/plain": [
       "time                                                                                                                                      76'\n",
       "event                                                                                                                            Substitution\n",
       "player_sub                                                                                                                           H. Winks\n",
       "main_player                                                                                                                        M. Sissoko\n",
       "commentary     Lloris gets a glance to this one and Ayling's return ball sails wide of the mark. Moussa Sissoko replaces Winks for the hosts.\n",
       "Name: 4, dtype: object"
      ]
     },
     "execution_count": 395,
     "metadata": {},
     "output_type": "execute_result"
    }
   ],
   "source": [
    "data.iloc[4,:]"
   ]
  },
  {
   "cell_type": "code",
   "execution_count": 16,
   "id": "stuck-maldives",
   "metadata": {},
   "outputs": [],
   "source": [
    "class Event_Data(torch.utils.data.Dataset):\n",
    "    def __init__(self, path_to_pickle, list_idx, target):\n",
    "        self.data = pd.read_pickle(path_to_pickle)\n",
    "        self.list_idx = list_idx\n",
    "        self.target = target\n",
    "        self.X = self.data.drop(self.target, axis=1)\n",
    "        self.Y = self.data[self.target]\n",
    "        \n",
    "    def __len__(self):\n",
    "        return len(self.data)\n",
    "    \n",
    "    def __getitem__(self, idx):\n",
    "        ID = self.list_idx[idx]\n",
    "        \n",
    "        X = self.X.iloc[ID]\n",
    "        y = self.Y.iloc[ID]\n",
    "        \n",
    "        return X,y"
   ]
  },
  {
   "cell_type": "code",
   "execution_count": 10,
   "id": "gross-guest",
   "metadata": {},
   "outputs": [],
   "source": [
    "train_idx = np.random.randint(0, 30000, size=27000)"
   ]
  },
  {
   "cell_type": "code",
   "execution_count": 11,
   "id": "educational-minneapolis",
   "metadata": {},
   "outputs": [],
   "source": [
    "device = torch.device('cpu')"
   ]
  },
  {
   "cell_type": "code",
   "execution_count": 20,
   "id": "coordinated-probe",
   "metadata": {},
   "outputs": [],
   "source": [
    "from sklearn.model_selection import train_test_split\n",
    "\n",
    "x_tr, x_te, y_tr, y_te = train_test_split(data.drop('commentary', axis=1), data['commentary'],\n",
    "                                          test_size=0.33, random_state=42)\n",
    "\n",
    "# train_df = Event_Data('processd_event_data.pickle', train_idx, 'commentary')"
   ]
  },
  {
   "cell_type": "markdown",
   "id": "curious-distance",
   "metadata": {},
   "source": [
    "## Create Word Embeddings"
   ]
  },
  {
   "cell_type": "code",
   "execution_count": 30,
   "id": "reduced-novel",
   "metadata": {},
   "outputs": [
    {
     "data": {
      "text/html": [
       "<table border=\"1\" class=\"dataframe\">\n",
       "  <thead>\n",
       "    <tr style=\"text-align: left;\">\n",
       "      <th>epoch</th>\n",
       "      <th>train_loss</th>\n",
       "      <th>valid_loss</th>\n",
       "      <th>time</th>\n",
       "    </tr>\n",
       "  </thead>\n",
       "  <tbody>\n",
       "    <tr>\n",
       "      <td>0</td>\n",
       "      <td>8.080174</td>\n",
       "      <td>None</td>\n",
       "      <td>00:25</td>\n",
       "    </tr>\n",
       "    <tr>\n",
       "      <td>1</td>\n",
       "      <td>3.287371</td>\n",
       "      <td>None</td>\n",
       "      <td>00:24</td>\n",
       "    </tr>\n",
       "    <tr>\n",
       "      <td>2</td>\n",
       "      <td>1.369253</td>\n",
       "      <td>None</td>\n",
       "      <td>00:24</td>\n",
       "    </tr>\n",
       "    <tr>\n",
       "      <td>3</td>\n",
       "      <td>0.632966</td>\n",
       "      <td>None</td>\n",
       "      <td>00:26</td>\n",
       "    </tr>\n",
       "  </tbody>\n",
       "</table>"
      ],
      "text/plain": [
       "<IPython.core.display.HTML object>"
      ]
     },
     "metadata": {},
     "output_type": "display_data"
    },
    {
     "name": "stderr",
     "output_type": "stream",
     "text": [
      "/home/ROHITGANGURDE/anaconda3/envs/a7/lib/python3.7/site-packages/fastprogress/fastprogress.py:74: UserWarning: Your generator is empty.\n",
      "  warn(\"Your generator is empty.\")\n"
     ]
    }
   ],
   "source": [
    "from fastai.tabular.all import *\n",
    "from fastcore.utils import *\n",
    "\n",
    "cont, cat = cont_cat_split(data, dep_var='commentary')\n",
    "\n",
    "procs_nn = [Categorify]\n",
    "device = torch.device('cpu')\n",
    "to_nn = TabularPandas(data, procs_nn, cat,\n",
    "                      y_names='commentary')\n",
    "dls = to_nn.dataloaders(1024, device=device)\n",
    "\n",
    "learn = tabular_learner(dls, layers=[1000, 700, 400, 300, 400], n_out=len(data['commentary']))\n",
    "learn.fit_one_cycle(4, 5e-4)"
   ]
  },
  {
   "cell_type": "code",
   "execution_count": 34,
   "id": "pregnant-alert",
   "metadata": {},
   "outputs": [],
   "source": [
    "def embed_features(learner, to, df):\n",
    "    embed_dict = {}\n",
    "    to = to.copy()\n",
    "    for i, col in enumerate(learn.dls.cat_names):\n",
    "        print(\"Processing embedding for column {}\".format(col))\n",
    "        embed = learn.model.embeds[i]\n",
    "        for j in range(df.shape[0]):\n",
    "            embed_dict[df[col][j]] = embed(tensor(to[col][j], dtype=torch.int64).to(device))\n",
    "\n",
    "    return embed_dict"
   ]
  },
  {
   "cell_type": "code",
   "execution_count": 35,
   "id": "alert-helmet",
   "metadata": {},
   "outputs": [
    {
     "name": "stdout",
     "output_type": "stream",
     "text": [
      "Processing embedding for column time\n",
      "Processing embedding for column event\n",
      "Processing embedding for column player_sub\n",
      "Processing embedding for column main_player\n"
     ]
    }
   ],
   "source": [
    "embed_dict = embed_features(learn, to_nn, data)rch"
   ]
  },
  {
   "cell_type": "code",
   "execution_count": 336,
   "id": "presidential-bearing",
   "metadata": {},
   "outputs": [
    {
     "data": {
      "text/plain": [
       "(tensor([-0.0095, -0.0011,  0.0071,  0.0162, -0.0072],\n",
       "        grad_fn=<EmbeddingBackward>),\n",
       " tensor([ 0.0038,  0.0175, -0.0015,  0.0043, -0.0007],\n",
       "        grad_fn=<EmbeddingBackward>))"
      ]
     },
     "execution_count": 336,
     "metadata": {},
     "output_type": "execute_result"
    }
   ],
   "source": [
    "embed_dict['Yellow Card'], embed_dict['Red Card']"
   ]
  },
  {
   "cell_type": "code",
   "execution_count": 54,
   "id": "confident-passenger",
   "metadata": {},
   "outputs": [
    {
     "data": {
      "text/plain": [
       "torch.Tensor"
      ]
     },
     "execution_count": 54,
     "metadata": {},
     "output_type": "execute_result"
    }
   ],
   "source": [
    "type(embed_dict['Substitution'])"
   ]
  },
  {
   "cell_type": "code",
   "execution_count": 88,
   "id": "specific-strategy",
   "metadata": {},
   "outputs": [
    {
     "data": {
      "text/plain": [
       "((#4) ['time','event','player_sub','main_player'], ['pr_time'])"
      ]
     },
     "execution_count": 88,
     "metadata": {},
     "output_type": "execute_result"
    }
   ],
   "source": [
    "to_nn.cat_names, cont"
   ]
  },
  {
   "cell_type": "code",
   "execution_count": 160,
   "id": "fluid-quest",
   "metadata": {},
   "outputs": [],
   "source": [
    "def p_xi(x, to, cols):\n",
    "    embed_x = pd.Series(index=cols, dtype='object')\n",
    "    for col in to.cat_names:\n",
    "        embed_x[col] = embed_dict[x[col]].detach().numpy()\n",
    "    for col in cont:\n",
    "        embed_x[col] = x[col]\n",
    "    for col in to.y_names:\n",
    "        embed_x[col] = x[col]\n",
    "    return embed_x"
   ]
  },
  {
   "cell_type": "code",
   "execution_count": 90,
   "id": "effective-anchor",
   "metadata": {},
   "outputs": [
    {
     "data": {
      "text/plain": [
       "time                                                                                                                                                              [0.0034495662, -0.0039111697, -0.0075463657, -0.00084400753, -0.006754394, -0.0064389757, 0.0071556196, 0.0015094089, 0.008235161, 0.0048262253, -0.0007968449, -0.015690666, 0.008338168, -0.002305122, -0.00034313306, 0.0058118557, -0.014901204, -0.00025771974, 0.0005035794]\n",
       "event                                                                                                                                                                                                                                                                                                                                                                          [-0.009511359, -0.0010568684, 0.007130699, 0.01616274, -0.0072473283]\n",
       "player_sub                                                                                                                      [0.007230572, 0.0016731989, -0.008829094, 0.008920854, -0.0030575502, -0.010636577, -0.01534504, 0.016586123, 0.0048511606, 0.017197015, -0.011527017, -0.0053833374, 0.005277304, 0.0104470225, -0.0060375524, -0.00046216545, 0.0017174676, -0.0043630023, 0.0021293939, -0.0128255775, -0.015709348, 0.010428692]\n",
       "main_player    [-0.0069870693, -0.0051646424, -0.0011794823, -0.007324319, -0.002198929, -0.0030441142, 0.0066291797, 0.0020430384, 0.02313626, -0.003214444, -0.0121002095, -0.013178531, 0.00028668268, 0.021146901, 0.02319959, -0.004274289, 0.006760166, 0.0042834016, -0.009212152, -0.0008394789, 0.0053389953, -0.0074290936, 0.0060005942, 0.0013890793, 0.02122414, 0.0026654047, 0.012881363, -0.015294595, -0.0010508687, 0.00019637421]\n",
       "commentary                                                                                                                                                                                                                                                                                                       A hasty challenge from Kalvin Phillips now and his booking is more costly than usual; it is his fifth, earning him a one-match ban.\n",
       "pr_time                                                                                                                                                                                                                                                                                                                                                                                                                                           89\n",
       "dtype: object"
      ]
     },
     "execution_count": 90,
     "metadata": {},
     "output_type": "execute_result"
    }
   ],
   "source": [
    "p(data.iloc[0,:], to_nn, data.columns)"
   ]
  },
  {
   "cell_type": "code",
   "execution_count": 161,
   "id": "finite-knitting",
   "metadata": {},
   "outputs": [],
   "source": [
    "p = pd.DataFrame([p_xi(data.iloc[i,:], to_nn, data.columns) for i in range(len(data))])"
   ]
  },
  {
   "cell_type": "code",
   "execution_count": 162,
   "id": "trying-taiwan",
   "metadata": {},
   "outputs": [
    {
     "data": {
      "text/html": [
       "<div>\n",
       "<style scoped>\n",
       "    .dataframe tbody tr th:only-of-type {\n",
       "        vertical-align: middle;\n",
       "    }\n",
       "\n",
       "    .dataframe tbody tr th {\n",
       "        vertical-align: top;\n",
       "    }\n",
       "\n",
       "    .dataframe thead th {\n",
       "        text-align: right;\n",
       "    }\n",
       "</style>\n",
       "<table border=\"1\" class=\"dataframe\">\n",
       "  <thead>\n",
       "    <tr style=\"text-align: right;\">\n",
       "      <th></th>\n",
       "      <th>time</th>\n",
       "      <th>event</th>\n",
       "      <th>player_sub</th>\n",
       "      <th>main_player</th>\n",
       "      <th>commentary</th>\n",
       "      <th>pr_time</th>\n",
       "    </tr>\n",
       "  </thead>\n",
       "  <tbody>\n",
       "    <tr>\n",
       "      <th>0</th>\n",
       "      <td>[0.0034495662, -0.0039111697, -0.0075463657, -0.00084400753, -0.006754394, -0.0064389757, 0.0071556196, 0.0015094089, 0.008235161, 0.0048262253, -0.0007968449, -0.015690666, 0.008338168, -0.002305122, -0.00034313306, 0.0058118557, -0.014901204, -0.00025771974, 0.0005035794]</td>\n",
       "      <td>[-0.009511359, -0.0010568684, 0.007130699, 0.01616274, -0.0072473283]</td>\n",
       "      <td>[0.007230572, 0.0016731989, -0.008829094, 0.008920854, -0.0030575502, -0.010636577, -0.01534504, 0.016586123, 0.0048511606, 0.017197015, -0.011527017, -0.0053833374, 0.005277304, 0.0104470225, -0.0060375524, -0.00046216545, 0.0017174676, -0.0043630023, 0.0021293939, -0.0128255775, -0.015709348, 0.010428692]</td>\n",
       "      <td>[-0.0069870693, -0.0051646424, -0.0011794823, -0.007324319, -0.002198929, -0.0030441142, 0.0066291797, 0.0020430384, 0.02313626, -0.003214444, -0.0121002095, -0.013178531, 0.00028668268, 0.021146901, 0.02319959, -0.004274289, 0.006760166, 0.0042834016, -0.009212152, -0.0008394789, 0.0053389953, -0.0074290936, 0.0060005942, 0.0013890793, 0.02122414, 0.0026654047, 0.012881363, -0.015294595, -0.0010508687, 0.00019637421]</td>\n",
       "      <td>A hasty challenge from Kalvin Phillips now and his booking is more costly than usual; it is his fifth, earning him a one-match ban.</td>\n",
       "      <td>89</td>\n",
       "    </tr>\n",
       "    <tr>\n",
       "      <th>1</th>\n",
       "      <td>[-0.011621012, 0.012392433, 0.0017693002, 0.0064299973, 0.0057424023, 0.012771621, -0.0018318192, -0.007798832, 0.0050749048, 0.0074686357, 0.011615076, 0.0038090723, 0.01324271, -0.0024024055, 0.0030063528, 0.0065668602, -0.008800555, -0.013174559, -0.00068424013]</td>\n",
       "      <td>[0.0008827144, -0.0019168973, 0.007145642, -0.00048759853, 0.0047499086]</td>\n",
       "      <td>[-0.004435647, 0.005875734, -0.01329946, -0.002099448, 0.008533904, -0.0053840815, 0.00049884454, -0.0013355388, 0.0036161775, 0.010086446, -0.016094016, -0.0020553875, -0.0048411135, -0.011048381, -0.010938119, -0.0067419102, -0.000102650476, -0.000797499, 0.006562047, 0.010153793, 0.01130392, 0.019240316, 0.0076453444, -0.004339522, 0.0031551553, -0.008467184, -0.003491769, -0.0030524803, 0.019709066, -0.013849651]</td>\n",
       "      <td>[0.0009201856, -0.017269863, -0.0015933602, -0.007972267, 0.0040540327, 0.017663514, 0.019291056, -0.005946982, -0.002946117, 0.009359054, -0.0034637502, 0.010648801, -0.0023220477, -0.0006266782, -0.0023512526, 0.0024309964, -0.0022670496, 0.00046189103, 0.02141611, -0.01564967, 0.004248105, -0.0057851234, -0.007909473, 0.0072552236, -0.0018675883, 0.0041767512, -0.0015516944, 0.00035908516, 0.006981004, 0.013180493]</td>\n",
       "      <td>Harry Kane - who became a father this week - makes way for Tottenham's final change, with Carlos Vinicius on his place.</td>\n",
       "      <td>87</td>\n",
       "    </tr>\n",
       "    <tr>\n",
       "      <th>2</th>\n",
       "      <td>[-0.00469359, 0.0047177873, 0.0055352603, 0.006129575, 0.01186114, -0.010104363, -0.00295194, 0.0014424023, -0.008374792, -0.016567338, 0.008236578, 0.007971317, -0.018111927, 0.0016413045, -0.015762057, -0.004128613, -0.0066969227, 0.0073460937, 0.0034484067]</td>\n",
       "      <td>[-0.009511359, -0.0010568684, 0.007130699, 0.01616274, -0.0072473283]</td>\n",
       "      <td>[0.007230572, 0.0016731989, -0.008829094, 0.008920854, -0.0030575502, -0.010636577, -0.01534504, 0.016586123, 0.0048511606, 0.017197015, -0.011527017, -0.0053833374, 0.005277304, 0.0104470225, -0.0060375524, -0.00046216545, 0.0017174676, -0.0043630023, 0.0021293939, -0.0128255775, -0.015709348, 0.010428692]</td>\n",
       "      <td>[-0.0009942069, -0.0083088055, 0.004603518, -0.0035380563, -0.0056925896, -0.0051157293, 0.006227409, 0.0038516803, 0.0021254946, 0.0022249818, -0.004978213, 0.0032631774, -0.008528752, -0.011582153, -0.005467155, -0.009760925, 0.007913494, -0.005370656, -0.0046006693, 0.007144398, 0.005827086, 0.0007507539, -0.01685207, -0.009857431, 0.01296837, -0.013914956, 0.0035912772, -0.0090568615, -0.0027956043, -0.012057228]</td>\n",
       "      <td>Hojbjerg picks up a late booking here, as the minutes tick down. Tottenham will be pleased with this though; a winning start to 2021 is just what they need.</td>\n",
       "      <td>85</td>\n",
       "    </tr>\n",
       "    <tr>\n",
       "      <th>3</th>\n",
       "      <td>[0.0089444285, -0.0024795418, -0.020351885, 0.0012407773, -0.002417905, -0.0066117006, 0.0046422984, 0.0088318, -0.003301167, -0.014725702, 0.007408219, -0.0060086357, -0.0050223265, -0.0047090957, -0.0014562249, 0.005127333, 0.00015306966, 0.0033763, 0.0006759903]</td>\n",
       "      <td>[0.0008827144, -0.0019168973, 0.007145642, -0.00048759853, 0.0047499086]</td>\n",
       "      <td>[-0.0034324247, -0.0019396286, -0.0022038834, 0.0019862857, 0.0067689205, 0.005154672, 0.01641062, -0.00041963262, -0.010665516, 0.006587107, -0.0154437255, 0.0068435385, 0.00470834, -0.00017066565, 0.006482162, -0.0035122668, -0.004809087, -0.016020877, -0.009234772, 0.0017032009, -0.0017214569, -0.0025316987, -0.0023181476, 0.0052922196, -0.008255422, -0.002360449, 0.004632171, 0.016975027, 0.006421529, -0.0051925457]</td>\n",
       "      <td>[-0.01003878, 0.0022597383, -0.002363576, 0.014024183, 0.0071605574, -0.00058340316, -0.010151597, 0.0053068884, -0.0028311918, 0.010240652, 0.007899876, 0.011960734, 0.002062169, -0.007000639, 0.0077446345, 0.0009497138, -0.0068769394, -0.010298149, 3.2159398e-05, -0.008069817, 0.011101558, 0.016110541, -0.0074076736, 0.013378741, 0.0021959287, 0.0009988102, 5.13064e-05, -0.0017681556, -0.0023809574, 0.01362069]</td>\n",
       "      <td>Tottenham make their second change now, with Ndombele making way for Lucas Moura.</td>\n",
       "      <td>78</td>\n",
       "    </tr>\n",
       "    <tr>\n",
       "      <th>4</th>\n",
       "      <td>[0.0089202495, 8.8754474e-05, 0.0047929706, -0.016913377, 0.007475003, -0.005662797, 0.008808478, -0.008236848, 0.0034129722, 0.0174556, -0.0026300766, -0.001378433, -0.009398671, 0.0016954796, 0.006537314, 0.019178096, 0.002164626, 0.0059580747, -0.00025065683]</td>\n",
       "      <td>[0.0008827144, -0.0019168973, 0.007145642, -0.00048759853, 0.0047499086]</td>\n",
       "      <td>[0.008725187, -0.009094689, -0.010279432, 0.009901614, 0.0039169565, -0.0018292674, 0.0086918855, -0.0028349506, 0.013394293, 0.010911023, 0.0026450534, 0.015356486, -0.013570592, 0.008475194, 0.0054233363, 0.011936354, 0.0067334366, 0.005249077, -0.017679615, 0.0026901977, -0.0037255138, -0.010874673, -0.010830536, 0.0079192985, -0.0017048441, -0.008588641, 0.008572544, 0.004866321, -0.0031195695, 0.008125464]</td>\n",
       "      <td>[0.0054608886, 0.0065199276, -0.0089607, 0.0015420194, 0.008799728, -0.009721656, 0.014010737, 0.006988066, -0.007727739, -0.009506973, -0.00012773763, -0.006769145, 0.022198277, 0.0016995219, 0.010892223, 0.0017287275, 0.0013854591, 0.0038922937, 0.009921165, -0.017095508, 0.005953383, -0.009567861, -0.0031522375, 0.0158486, -0.007054536, 8.426949e-05, 0.0002374138, -0.005704489, 0.004844863, -0.01451412]</td>\n",
       "      <td>Lloris gets a glance to this one and Ayling's return ball sails wide of the mark. Moussa Sissoko replaces Winks for the hosts.</td>\n",
       "      <td>76</td>\n",
       "    </tr>\n",
       "  </tbody>\n",
       "</table>\n",
       "</div>"
      ],
      "text/plain": [
       "                                                                                                                                                                                                                                                                                 time  \\\n",
       "0  [0.0034495662, -0.0039111697, -0.0075463657, -0.00084400753, -0.006754394, -0.0064389757, 0.0071556196, 0.0015094089, 0.008235161, 0.0048262253, -0.0007968449, -0.015690666, 0.008338168, -0.002305122, -0.00034313306, 0.0058118557, -0.014901204, -0.00025771974, 0.0005035794]   \n",
       "1           [-0.011621012, 0.012392433, 0.0017693002, 0.0064299973, 0.0057424023, 0.012771621, -0.0018318192, -0.007798832, 0.0050749048, 0.0074686357, 0.011615076, 0.0038090723, 0.01324271, -0.0024024055, 0.0030063528, 0.0065668602, -0.008800555, -0.013174559, -0.00068424013]   \n",
       "2                [-0.00469359, 0.0047177873, 0.0055352603, 0.006129575, 0.01186114, -0.010104363, -0.00295194, 0.0014424023, -0.008374792, -0.016567338, 0.008236578, 0.007971317, -0.018111927, 0.0016413045, -0.015762057, -0.004128613, -0.0066969227, 0.0073460937, 0.0034484067]   \n",
       "3           [0.0089444285, -0.0024795418, -0.020351885, 0.0012407773, -0.002417905, -0.0066117006, 0.0046422984, 0.0088318, -0.003301167, -0.014725702, 0.007408219, -0.0060086357, -0.0050223265, -0.0047090957, -0.0014562249, 0.005127333, 0.00015306966, 0.0033763, 0.0006759903]   \n",
       "4              [0.0089202495, 8.8754474e-05, 0.0047929706, -0.016913377, 0.007475003, -0.005662797, 0.008808478, -0.008236848, 0.0034129722, 0.0174556, -0.0026300766, -0.001378433, -0.009398671, 0.0016954796, 0.006537314, 0.019178096, 0.002164626, 0.0059580747, -0.00025065683]   \n",
       "\n",
       "                                                                      event  \\\n",
       "0     [-0.009511359, -0.0010568684, 0.007130699, 0.01616274, -0.0072473283]   \n",
       "1  [0.0008827144, -0.0019168973, 0.007145642, -0.00048759853, 0.0047499086]   \n",
       "2     [-0.009511359, -0.0010568684, 0.007130699, 0.01616274, -0.0072473283]   \n",
       "3  [0.0008827144, -0.0019168973, 0.007145642, -0.00048759853, 0.0047499086]   \n",
       "4  [0.0008827144, -0.0019168973, 0.007145642, -0.00048759853, 0.0047499086]   \n",
       "\n",
       "                                                                                                                                                                                                                                                                                                                                                                                                                                player_sub  \\\n",
       "0                                                                                                                     [0.007230572, 0.0016731989, -0.008829094, 0.008920854, -0.0030575502, -0.010636577, -0.01534504, 0.016586123, 0.0048511606, 0.017197015, -0.011527017, -0.0053833374, 0.005277304, 0.0104470225, -0.0060375524, -0.00046216545, 0.0017174676, -0.0043630023, 0.0021293939, -0.0128255775, -0.015709348, 0.010428692]   \n",
       "1     [-0.004435647, 0.005875734, -0.01329946, -0.002099448, 0.008533904, -0.0053840815, 0.00049884454, -0.0013355388, 0.0036161775, 0.010086446, -0.016094016, -0.0020553875, -0.0048411135, -0.011048381, -0.010938119, -0.0067419102, -0.000102650476, -0.000797499, 0.006562047, 0.010153793, 0.01130392, 0.019240316, 0.0076453444, -0.004339522, 0.0031551553, -0.008467184, -0.003491769, -0.0030524803, 0.019709066, -0.013849651]   \n",
       "2                                                                                                                     [0.007230572, 0.0016731989, -0.008829094, 0.008920854, -0.0030575502, -0.010636577, -0.01534504, 0.016586123, 0.0048511606, 0.017197015, -0.011527017, -0.0053833374, 0.005277304, 0.0104470225, -0.0060375524, -0.00046216545, 0.0017174676, -0.0043630023, 0.0021293939, -0.0128255775, -0.015709348, 0.010428692]   \n",
       "3  [-0.0034324247, -0.0019396286, -0.0022038834, 0.0019862857, 0.0067689205, 0.005154672, 0.01641062, -0.00041963262, -0.010665516, 0.006587107, -0.0154437255, 0.0068435385, 0.00470834, -0.00017066565, 0.006482162, -0.0035122668, -0.004809087, -0.016020877, -0.009234772, 0.0017032009, -0.0017214569, -0.0025316987, -0.0023181476, 0.0052922196, -0.008255422, -0.002360449, 0.004632171, 0.016975027, 0.006421529, -0.0051925457]   \n",
       "4           [0.008725187, -0.009094689, -0.010279432, 0.009901614, 0.0039169565, -0.0018292674, 0.0086918855, -0.0028349506, 0.013394293, 0.010911023, 0.0026450534, 0.015356486, -0.013570592, 0.008475194, 0.0054233363, 0.011936354, 0.0067334366, 0.005249077, -0.017679615, 0.0026901977, -0.0037255138, -0.010874673, -0.010830536, 0.0079192985, -0.0017048441, -0.008588641, 0.008572544, 0.004866321, -0.0031195695, 0.008125464]   \n",
       "\n",
       "                                                                                                                                                                                                                                                                                                                                                                                                                             main_player  \\\n",
       "0  [-0.0069870693, -0.0051646424, -0.0011794823, -0.007324319, -0.002198929, -0.0030441142, 0.0066291797, 0.0020430384, 0.02313626, -0.003214444, -0.0121002095, -0.013178531, 0.00028668268, 0.021146901, 0.02319959, -0.004274289, 0.006760166, 0.0042834016, -0.009212152, -0.0008394789, 0.0053389953, -0.0074290936, 0.0060005942, 0.0013890793, 0.02122414, 0.0026654047, 0.012881363, -0.015294595, -0.0010508687, 0.00019637421]   \n",
       "1  [0.0009201856, -0.017269863, -0.0015933602, -0.007972267, 0.0040540327, 0.017663514, 0.019291056, -0.005946982, -0.002946117, 0.009359054, -0.0034637502, 0.010648801, -0.0023220477, -0.0006266782, -0.0023512526, 0.0024309964, -0.0022670496, 0.00046189103, 0.02141611, -0.01564967, 0.004248105, -0.0057851234, -0.007909473, 0.0072552236, -0.0018675883, 0.0041767512, -0.0015516944, 0.00035908516, 0.006981004, 0.013180493]   \n",
       "2   [-0.0009942069, -0.0083088055, 0.004603518, -0.0035380563, -0.0056925896, -0.0051157293, 0.006227409, 0.0038516803, 0.0021254946, 0.0022249818, -0.004978213, 0.0032631774, -0.008528752, -0.011582153, -0.005467155, -0.009760925, 0.007913494, -0.005370656, -0.0046006693, 0.007144398, 0.005827086, 0.0007507539, -0.01685207, -0.009857431, 0.01296837, -0.013914956, 0.0035912772, -0.0090568615, -0.0027956043, -0.012057228]   \n",
       "3       [-0.01003878, 0.0022597383, -0.002363576, 0.014024183, 0.0071605574, -0.00058340316, -0.010151597, 0.0053068884, -0.0028311918, 0.010240652, 0.007899876, 0.011960734, 0.002062169, -0.007000639, 0.0077446345, 0.0009497138, -0.0068769394, -0.010298149, 3.2159398e-05, -0.008069817, 0.011101558, 0.016110541, -0.0074076736, 0.013378741, 0.0021959287, 0.0009988102, 5.13064e-05, -0.0017681556, -0.0023809574, 0.01362069]   \n",
       "4              [0.0054608886, 0.0065199276, -0.0089607, 0.0015420194, 0.008799728, -0.009721656, 0.014010737, 0.006988066, -0.007727739, -0.009506973, -0.00012773763, -0.006769145, 0.022198277, 0.0016995219, 0.010892223, 0.0017287275, 0.0013854591, 0.0038922937, 0.009921165, -0.017095508, 0.005953383, -0.009567861, -0.0031522375, 0.0158486, -0.007054536, 8.426949e-05, 0.0002374138, -0.005704489, 0.004844863, -0.01451412]   \n",
       "\n",
       "                                                                                                                                                     commentary  \\\n",
       "0                           A hasty challenge from Kalvin Phillips now and his booking is more costly than usual; it is his fifth, earning him a one-match ban.   \n",
       "1                                       Harry Kane - who became a father this week - makes way for Tottenham's final change, with Carlos Vinicius on his place.   \n",
       "2  Hojbjerg picks up a late booking here, as the minutes tick down. Tottenham will be pleased with this though; a winning start to 2021 is just what they need.   \n",
       "3                                                                             Tottenham make their second change now, with Ndombele making way for Lucas Moura.   \n",
       "4                                Lloris gets a glance to this one and Ayling's return ball sails wide of the mark. Moussa Sissoko replaces Winks for the hosts.   \n",
       "\n",
       "   pr_time  \n",
       "0       89  \n",
       "1       87  \n",
       "2       85  \n",
       "3       78  \n",
       "4       76  "
      ]
     },
     "execution_count": 162,
     "metadata": {},
     "output_type": "execute_result"
    }
   ],
   "source": [
    "p.head()"
   ]
  },
  {
   "cell_type": "code",
   "execution_count": 157,
   "id": "destroyed-knight",
   "metadata": {},
   "outputs": [
    {
     "data": {
      "text/plain": [
       "[tensor([-0.0116,  0.0124,  0.0018,  0.0064,  0.0057,  0.0128, -0.0018, -0.0078,\n",
       "          0.0051,  0.0075,  0.0116,  0.0038,  0.0132, -0.0024,  0.0030,  0.0066,\n",
       "         -0.0088, -0.0132, -0.0007]),\n",
       " tensor([ 0.0009, -0.0019,  0.0071, -0.0005,  0.0047])]"
      ]
     },
     "execution_count": 157,
     "metadata": {},
     "output_type": "execute_result"
    }
   ],
   "source": [
    "p"
   ]
  },
  {
   "cell_type": "code",
   "execution_count": 225,
   "id": "patent-samuel",
   "metadata": {},
   "outputs": [
    {
     "name": "stdout",
     "output_type": "stream",
     "text": [
      "Column time Size (19,)\n",
      "Column event Size (5,)\n",
      "Column player_sub Size (22,)\n",
      "Column main_player Size (30,)\n"
     ]
    },
    {
     "data": {
      "text/plain": [
       "76"
      ]
     },
     "execution_count": 225,
     "metadata": {},
     "output_type": "execute_result"
    }
   ],
   "source": [
    "s = 0\n",
    "for c in p.columns:\n",
    "    try:\n",
    "        s += p[c][0].shape[0]\n",
    "        print(\"Column {} Size {}\".format(c, p[c][0].shape))\n",
    "    except : continue\n",
    "s"
   ]
  },
  {
   "cell_type": "code",
   "execution_count": 180,
   "id": "leading-transport",
   "metadata": {},
   "outputs": [],
   "source": [
    "def embed_features_df(learner, x):\n",
    "    x = x.copy()\n",
    "    for i, col in enumerate(learn.dls.cat_names):\n",
    "        embed = learn.model.embeds[i]\n",
    "        print(col)\n",
    "        print(x[col])\n",
    "        embed_data = embed(tensor(x[col], dtype=torch.int64).to(device))\n",
    "        embed_names = [f'{col}_{j}' for j in range(embed_data.shape[1])]\n",
    "        features = pd.DataFrame(data=embed_data, index=x.index, columns=embed_names)\n",
    "        x = x.drop(col, axis=1)\n",
    "        x = x.join(features)\n",
    "    return x"
   ]
  },
  {
   "cell_type": "code",
   "execution_count": 182,
   "id": "numerous-species",
   "metadata": {
    "collapsed": true,
    "jupyter": {
     "outputs_hidden": true
    },
    "tags": []
   },
   "outputs": [
    {
     "name": "stdout",
     "output_type": "stream",
     "text": [
      "time\n",
      "0        74\n",
      "1        72\n",
      "2        70\n",
      "3        62\n",
      "4        60\n",
      "         ..\n",
      "39422    27\n",
      "39423    26\n",
      "39424    19\n",
      "39425    19\n",
      "39426     3\n",
      "Name: time, Length: 39427, dtype: int8\n",
      "event\n",
      "0        6\n",
      "1        5\n",
      "2        6\n",
      "3        5\n",
      "4        5\n",
      "        ..\n",
      "39422    6\n",
      "39423    6\n",
      "39424    1\n",
      "39425    2\n",
      "39426    6\n",
      "Name: event, Length: 39427, dtype: int8\n",
      "player_sub\n",
      "0        103\n",
      "1         38\n",
      "2        103\n",
      "3         96\n",
      "4         39\n",
      "        ... \n",
      "39422    103\n",
      "39423    103\n",
      "39424    103\n",
      "39425    103\n",
      "39426    103\n",
      "Name: player_sub, Length: 39427, dtype: int8\n",
      "main_player\n",
      "0        103\n",
      "1         37\n",
      "2        138\n",
      "3        111\n",
      "4        126\n",
      "        ... \n",
      "39422    112\n",
      "39423     66\n",
      "39424    180\n",
      "39425     78\n",
      "39426    176\n",
      "Name: main_player, Length: 39427, dtype: int16\n"
     ]
    }
   ],
   "source": [
    "embed_df = embed_features_df(learn, to_nn.train.xs)"
   ]
  },
  {
   "cell_type": "code",
   "execution_count": 188,
   "id": "armed-attachment",
   "metadata": {},
   "outputs": [
    {
     "data": {
      "text/plain": [
       "(39427, 76)"
      ]
     },
     "execution_count": 188,
     "metadata": {},
     "output_type": "execute_result"
    }
   ],
   "source": [
    "embed_df.shape"
   ]
  },
  {
   "cell_type": "code",
   "execution_count": 193,
   "id": "intimate-projector",
   "metadata": {},
   "outputs": [],
   "source": [
    "x_train = embed_df.iloc[:25000]\n",
    "x_test = embed_df.iloc[25000:]\n",
    "x_train = torch.FloatTensor(x_train.values)\n",
    "x_test = torch.FloatTensor(x_test.values)"
   ]
  },
  {
   "cell_type": "markdown",
   "id": "incorporated-boating",
   "metadata": {},
   "source": [
    "## Multi Layer Perceptron"
   ]
  },
  {
   "cell_type": "code",
   "execution_count": 372,
   "id": "fifth-scanning",
   "metadata": {},
   "outputs": [],
   "source": [
    "class Model(torch.nn.Module):\n",
    "    def __init__(self, input_size, hidden_size, output_size):\n",
    "        super(Model, self).__init__()\n",
    "        self.input_size = input_size\n",
    "        self.hidden_size = hidden_size\n",
    "        self.output_size = output_size\n",
    "        self.fc1 = torch.nn.Linear(self.input_size, self.hidden_size)\n",
    "        # custom sigmoid activation function\n",
    "        self.sig = Custom_Activation()\n",
    "#         self.dropout = torch.nn.Dropout(p=0.5)\n",
    "        self.fc2 = torch.nn.Linear(self.hidden_size, self.input_size)\n",
    "        self.batch_norm = torch.nn.BatchNorm1d(self.input_size)\n",
    "        self.tanh2 = torch.nn.Tanh()\n",
    "        self.fc3 = torch.nn.Linear(self.input_size, self.output_size, bias=True)\n",
    "        self.softmax = torch.nn.Softmax()\n",
    "    def forward(self, x):\n",
    "        fc1 = self.fc1(x)\n",
    "        sig = self.sig(fc1, self.fc1)\n",
    "        dropout = self.dropout(sig)\n",
    "        fc2 = self.fc2(dropout)\n",
    "        batch = self.batch_norm(fc2)\n",
    "        tanh = self.tanh2(batch)\n",
    "        output = self.fc3(tanh)\n",
    "        output = self.softmax(output)\n",
    "        return output"
   ]
  },
  {
   "cell_type": "code",
   "execution_count": 371,
   "id": "premium-practice",
   "metadata": {},
   "outputs": [],
   "source": [
    "def custom_loss(targets: Tensor, sentence) -> Tensor:\n",
    "\n",
    "    def loss(t_ck, g_ck):\n",
    "        return t_ck*np.log(g_ck) + (1 - t_ck)*np.log(1-g_ck)\n",
    "    \n",
    "    \"\"\"\n",
    "        Calculate the probability distribution\n",
    "    \"\"\"\n",
    "    U = model.fc3.weight\n",
    "    b = model.fc3.bias\n",
    "\n",
    "    g_c = torch.mm(h,U) + b\n",
    "    sigmiod = torch.nn.Sigmoid()\n",
    "    g_c = sigmoid(g_c)\n",
    "    print(g_c.shape)\n",
    "    total_loss = 0\n",
    "    wrd = {0 : range(19), 1 : range(19, 24), 2 : range(24, 46), 3 : range(66,76)}\n",
    "    print(len(targets))\n",
    "    for c in range(len(targets)):\n",
    "        sent = sentence[c]\n",
    "        for k in range(4):\n",
    "            g_ck = g_c[c][wrd[k]].sum()/len(wrd[k])\n",
    "#             print(g_ck)\n",
    "            word = targets[c][wrd[k]]\n",
    "#             print(word)\n",
    "            t_ck = 0\n",
    "            word = word.detach().numpy()\n",
    "#             print(word)\n",
    "            for k_,v in embed_dict.items():\n",
    "                v = v.detach().numpy()\n",
    "                if np.array_equal(v, word):\n",
    "#                     print(word, v)\n",
    "#                     print(k_)\n",
    "                    word = k_\n",
    "                    break\n",
    "#             print(word, type(word))\n",
    "#             print(word)\n",
    "            try :\n",
    "                if word in sent:\n",
    "                    print(word, sent)    \n",
    "                    t_ck = 1\n",
    "#             if k > 0 : print(word)\n",
    "            except : continue\n",
    "            l = loss(t_ck, g_ck.detach().numpy())\n",
    "            print(l)\n",
    "            total_loss += l\n",
    "    return -1 * total_loss\n",
    "\n",
    "def g_c(U_c, b_c, h):\n",
    "    \n",
    "    g_c = torch.mm(h,U_c) + b_c\n",
    "    return torch.sigmoid(g_c)"
   ]
  },
  {
   "cell_type": "code",
   "execution_count": 299,
   "id": "varying-wilderness",
   "metadata": {},
   "outputs": [
    {
     "data": {
      "text/plain": [
       "'A hasty challenge from Kalvin Phillips now and his booking is more costly than usual; it is his fifth, earning him a one-match ban.'"
      ]
     },
     "execution_count": 299,
     "metadata": {},
     "output_type": "execute_result"
    }
   ],
   "source": [
    "data['commentary'][0]"
   ]
  },
  {
   "cell_type": "code",
   "execution_count": 354,
   "id": "normal-review",
   "metadata": {
    "collapsed": true,
    "jupyter": {
     "outputs_hidden": true
    },
    "tags": []
   },
   "outputs": [
    {
     "name": "stdout",
     "output_type": "stream",
     "text": [
      "torch.Size([25000, 76])\n",
      "200\n",
      "-0.694058115889167\n",
      "-0.6948283710681473\n",
      "-0.7090648517586233\n",
      "-0.6940621727070492\n",
      "-0.6948265799216768\n",
      "-0.6940590704330705\n",
      "-0.6948292069375981\n",
      "-0.7090635194174401\n",
      "-0.6940577579354381\n",
      "-0.6948281322484325\n",
      "-0.6940616954335029\n",
      "-0.6948257440544219\n",
      "-0.6940610988418905\n",
      "-0.6948229976383605\n",
      "Rodrigo Leeds make that final change quickly, with Pablo Hernandez replacing Rodrigo in the attacking midfield area.\n",
      "-0.6774808168411255\n",
      "-0.6940583545250575\n",
      "-0.6948245499595553\n",
      "-0.7090641250268488\n",
      "-0.6940570420283648\n",
      "-0.6948234752753946\n",
      "-0.7090621870780319\n",
      "-0.6940603829324253\n",
      "-0.6948206094566123\n",
      "-0.7090637616611596\n",
      "-0.694057280663999\n",
      "-0.6948300428077476\n",
      "-0.7090653362467665\n",
      "-0.6940579965712432\n",
      "-0.6948321921913402\n",
      "-0.7090636405392925\n",
      "-0.6940589511150327\n",
      "-0.6948306398582821\n",
      "-0.7090661841015817\n",
      "-0.6940612181601845\n",
      "-0.69482729637988\n",
      "-0.7090631560519709\n",
      "-0.6940595477053638\n",
      "-0.6948293263475767\n",
      "-0.7090632771737793\n",
      "-0.6940625306623583\n",
      "-0.694825863463987\n",
      "-0.7090637616611596\n",
      "-0.6940566840750203\n",
      "-0.6948286098879191\n",
      "-0.7090665474681512\n",
      "-0.6940582352071051\n",
      "-0.6948249081878656\n",
      "na Fleck gets flashed a yellow card for a late challenge here. Frustration slipping into United as this game perhaps finally slips away from a possible result.\n",
      "-0.6774815917015076\n",
      "-0.6940589511150327\n",
      "-0.6948325504223881\n",
      "-0.709062671564884\n",
      "-0.6940589511150327\n",
      "-0.6948314757296293\n",
      "-0.7090660629794212\n",
      "-0.694061576115152\n",
      "-0.6948287292978264\n",
      "-0.7090650940026656\n",
      "-0.6940577579354381\n",
      "-0.6948239529126568\n",
      "-0.7090629138083981\n",
      "-0.6940613374784927\n",
      "-0.6948244305501471\n",
      "-0.7090629138083981\n",
      "-0.6940570420283648\n",
      "-0.6948256246448711\n",
      "-0.7090642461487745\n",
      "-0.6940577579354381\n",
      "-0.6948299233976835\n",
      "-0.7090667897126042\n",
      "-0.6940597863415959\n",
      "-0.6948290875276338\n",
      "-0.7090647306366242\n",
      "-0.6940577579354381\n",
      "-0.6948356550968458\n",
      "-0.6940625306623583\n",
      "-0.6948251470068104\n",
      "-0.7090637616611596\n",
      "-0.694058115889167\n",
      "-0.6948320727810194\n",
      "-0.7090640039049377\n",
      "-0.6940596670234728\n",
      "-0.6948342221689753\n",
      "-0.6940589511150327\n",
      "-0.6948277740189673\n",
      "-0.7090636405392925\n",
      "-0.694056326121804\n",
      "-0.6948305204481467\n",
      "-0.7090640039049377\n",
      "-0.6940616954335029\n",
      "-0.6948221617740998\n",
      "-0.6940595477053638\n",
      "-0.6948268187410209\n",
      "Vitinha Nuno brings centre-back Kilman on for Vitinha, reverting to a 3-4-3 from their 4-2-3-1 in an attempt to see out the rest of the game.\n",
      "-0.677478551864624\n",
      "-0.694060263614231\n",
      "-0.6948224005923888\n",
      "-0.7090630349301772\n",
      "-0.6940610988418905\n",
      "-0.6948241917313734\n",
      "-0.7090649728806371\n",
      "-0.6940589511150327\n",
      "-0.6948265799216768\n",
      "-0.694061576115152\n",
      "-0.6948257440544219\n",
      "-0.6940596670234728\n",
      "-0.6948293263475767\n",
      "na GOAL!! NEVES CONVERTS FROM THE SPOT!! The midfielder sends Sanchez the wrong way and fires calmly inside the right-hand post! That's a confident penalty and it's now 3-1 to Wolves!\n",
      "-0.6774806976318359\n",
      "-0.694063127254825\n",
      "-0.6948130867213839\n",
      "-0.7090637616611596\n",
      "-0.6940587124789999\n",
      "-0.6948232364568491\n",
      "-0.7090637616611596\n",
      "-0.694058473843024\n",
      "-0.6948320727810194\n",
      "-0.7090636405392925\n",
      "-0.694060024977885\n",
      "-0.6948266993313418\n",
      "-0.7090663052237569\n",
      "-0.6940594283872691\n",
      "-0.6948261022831599\n",
      "-0.7090640039049377\n",
      "-0.6940603829324253\n",
      "-0.6948266993313418\n",
      "na GOAL!! BRIGHTON TAKE THE LEAD!! Trossard drives at Ait-Nouri down the Brighton right, twisting and turning. The winger loses his footing momentarily, but still manages to work a yard and crosses towards the near post for Connolly. Saiss inexplicably fails to react and the young forward prods the ball in at the near post! It's 1-0 to Brighton!\n",
      "-0.6774803400039673\n",
      "-0.694060263614231\n",
      "-0.6948292069375981\n",
      "-0.7090649728806371\n",
      "-0.6940577579354381\n",
      "-0.69482729637988\n",
      "-0.7090632771737793\n",
      "-0.6940613374784927\n",
      "-0.6948252664163042\n",
      "-0.7090661841015817\n",
      "-0.694060502250634\n",
      "-0.6948277740189673\n",
      "Saka Saka is withdrawn after a fantastic outing and is replaced by Willian.\n",
      "-0.6774801015853882\n",
      "-0.6940575192996901\n",
      "-0.6948287292978264\n",
      "-0.7090630349301772\n",
      "-0.6940583545250575\n",
      "-0.694833744526808\n",
      "-0.7090661841015817\n",
      "-0.6940569227105691\n",
      "-0.6948251470068104\n",
      "-0.7090646095146398\n",
      "-0.6940583545250575\n",
      "-0.6948234752753946\n",
      "-0.7090641250268488\n",
      "-0.6940577579354381\n",
      "-0.6948266993313418\n",
      "-0.7090649728806371\n",
      "-0.6940575192996901\n",
      "-0.6948329086535644\n",
      "-0.7090649728806371\n",
      "-0.694057638617557\n",
      "-0.6948299233976835\n",
      "-0.7090629138083981\n",
      "-0.6940610988418905\n",
      "-0.6948333862953323\n",
      "-0.7090641250268488\n",
      "-0.6940638431662549\n",
      "-0.694822758819929\n",
      "-0.7090659418572755\n",
      "-0.6940583545250575\n",
      "-0.6948228782291377\n",
      "-0.7090640039049377\n",
      "-0.6940588317970092\n",
      "-0.6948277740189673\n",
      "-0.7090650940026656\n",
      "-0.6940571613461748\n",
      "-0.694829684577598\n",
      "-0.7090659418572755\n",
      "-0.6940595477053638\n",
      "-0.6948252664163042\n",
      "-0.7090653362467665\n",
      "-0.6940577579354381\n",
      "-0.6948263411023898\n",
      "-0.70906448839267\n",
      "-0.694060263614231\n",
      "-0.6948277740189673\n",
      "-0.6940606215688568\n",
      "-0.6948244305501471\n",
      "-0.7090641250268488\n",
      "-0.6940609795236108\n",
      "-0.6948257440544219\n",
      "-0.7090620659563556\n",
      "-0.6940621727070492\n",
      "-0.6948234752753946\n",
      "-0.7090632771737793\n",
      "-0.6940583545250575\n",
      "-0.6948298039876336\n",
      "Joelinton Joelinton is also taken off, with Shelvey on in his place.\n",
      "-0.6774815917015076\n",
      "-0.6940588317970092\n",
      "-0.694828848707748\n",
      "-0.709062671564884\n",
      "-0.6940603829324253\n",
      "-0.6948225200015545\n",
      "-0.7090646095146398\n",
      "-0.6940594283872691\n",
      "-0.6948253858258122\n",
      "na Vardy drifts away from Yedlin and is quickly surrounded by four Newcastle defenders, but he manages to play the ball back to Maddison.\n",
      "-0.6774801015853882\n",
      "-0.6940620533886412\n",
      "-0.6948247887784146\n",
      "-0.7090630349301772\n",
      "-0.6940579965712432\n",
      "-0.6948252664163042\n",
      "-0.7090629138083981\n",
      "-0.6940589511150327\n",
      "-0.694829684577598\n",
      "-0.709064367270715\n",
      "-0.6940566840750203\n",
      "-0.6948253858258122\n",
      "-0.709062550443149\n",
      "-0.6940588317970092\n",
      "-0.6948282516582828\n",
      "-0.6940596670234728\n",
      "-0.6948261022831599\n",
      "-0.7090630349301772\n",
      "-0.6940625306623583\n",
      "-0.6948181018719148\n",
      "-0.694057638617557\n",
      "-0.6948239529126568\n",
      "-0.7090636405392925\n",
      "-0.6940596670234728\n",
      "-0.6948249081878656\n",
      "-0.7090617025914145\n",
      "-0.6940568033927876\n",
      "-0.6948283710681473\n",
      "-0.6940595477053638\n",
      "-0.69482729637988\n",
      "-0.6940596670234728\n",
      "-0.6948266993313418\n",
      "-0.7090632771737793\n",
      "-0.6940609795236108\n",
      "-0.6948241917313734\n",
      "-0.7090637616611596\n",
      "-0.6940618147518682\n",
      "-0.6948215647286271\n",
      "-0.7090636405392925\n",
      "-0.6940603829324253\n",
      "-0.6948255052353345\n",
      "-0.7090637616611596\n",
      "-0.6940609795236108\n",
      "-0.6948311174989664\n",
      "-0.709065578490926\n",
      "-0.6940613374784927\n",
      "-0.6948276546091742\n",
      "-0.7090650940026656\n",
      "-0.6940608602053452\n",
      "-0.6948232364568491\n",
      "-0.7090660629794212\n",
      "-0.6940585931610048\n",
      "-0.6948277740189673\n",
      "-0.7090630349301772\n",
      "-0.6940583545250575\n",
      "-0.6948293263475767\n",
      "-0.7090648517586233\n",
      "-0.6940575192996901\n",
      "-0.694830162217826\n",
      "-0.7090636405392925\n",
      "-0.6940621727070492\n",
      "-0.6948222811832372\n",
      "-0.694060024977885\n",
      "-0.6948201318209469\n",
      "-0.7090646095146398\n",
      "-0.6940566840750203\n",
      "-0.6948275351993952\n",
      "-0.7090633982956024\n",
      "-0.6940616954335029\n",
      "-0.6948220423649768\n",
      "-0.7090633982956024\n",
      "-0.6940608602053452\n",
      "-0.6948271769701438\n",
      "-0.7090637616611596\n",
      "-0.6940627692993023\n",
      "-0.6948194153678768\n",
      "-0.7090642461487745\n",
      "-0.6940589511150327\n",
      "-0.694833744526808\n",
      "-0.7090624293214286\n",
      "-0.6940607408870939\n",
      "-0.6948277740189673\n",
      "-0.7090621870780319\n",
      "-0.6940565647572673\n",
      "-0.69482729637988\n",
      "-0.7090629138083981\n",
      "-0.6940619340702476\n",
      "-0.6948275351993952\n",
      "-0.6940589511150327\n",
      "-0.6948278934287748\n",
      "-0.7090635194174401\n",
      "-0.6940562068040936\n",
      "-0.6948282516582828\n",
      "na McGoldrick gets rid of the ball just before Schar slams into him and the defender has his name taken by the referee.\n",
      "-0.6774823069572449\n",
      "-0.6940589511150327\n",
      "-0.6948289681176837\n",
      "-0.7090633982956024\n",
      "-0.6940595477053638\n",
      "-0.6948294457575696\n",
      "-0.7090630349301772\n",
      "-0.6940603829324253\n",
      "-0.6948196541855098\n",
      "-0.7090659418572755\n",
      "-0.6940625306623583\n",
      "-0.694825863463987\n",
      "-0.7090659418572755\n",
      "-0.6940616954335029\n",
      "-0.6948320727810194\n",
      "na SHARP SCORES! The captain confidently steps up to the spot and he puts his side ahead! It's a good penalty from him and he sends Darlow the wrong way to send his shot into the bottom left corner. 1-0 Sheffield United!\n",
      "-0.6774792671203613\n",
      "-0.6940619340702476\n",
      "-0.6948274157896305\n",
      "-0.7090640039049377\n",
      "-0.6940594283872691\n",
      "-0.6948311174989664\n",
      "-0.709062550443149\n",
      "-0.6940596670234728\n",
      "-0.6948239529126568\n",
      "-0.7090623081997229\n",
      "-0.6940594283872691\n",
      "-0.6948237140939971\n",
      "-0.7090631560519709\n",
      "-0.6940599056597334\n",
      "-0.6948271769701438\n",
      "-0.7090648517586233\n",
      "-0.6940587124789999\n",
      "-0.6948239529126568\n",
      "-0.6940624113439078\n",
      "-0.6948299233976835\n",
      "-0.6940610988418905\n",
      "-0.6948286098879191\n",
      "-0.7090649728806371\n",
      "-0.6940554908981308\n",
      "-0.6948256246448711\n",
      "-0.6940596670234728\n",
      "-0.6948253858258122\n",
      "na After Fernandes found Rashford down the right flank, the Englishman showed great patience before lifting his head up and picking out Pogba, who applied a superb finish to an incisive move.\n",
      "-0.6774806976318359\n",
      "-0.6940583545250575\n",
      "-0.6948305204481467\n",
      "-0.7090624293214286\n",
      "-0.6940588317970092\n",
      "-0.6948220423649768\n",
      "-0.709062671564884\n",
      "-0.694060263614231\n",
      "-0.6948261022831599\n",
      "na Fernandes gets into a pocket of space after turning away from the Burnley midfield before being cynically brought down from behind by Westwood. He can have complaints after picking up a yellow card.\n",
      "-0.6774775981903076\n",
      "-0.6940578772533336\n",
      "-0.6948339833478631\n",
      "na Fernandes is shown a yellow card for dissent.\n",
      "-0.6774792671203613\n",
      "-0.6940593090691887\n",
      "-0.6948276546091742\n",
      "-0.7090640039049377\n",
      "-0.694058473843024\n",
      "-0.6948277740189673\n",
      "-0.709064367270715\n",
      "-0.6940579965712432\n",
      "-0.6948341027584121\n",
      "-0.7090641250268488\n",
      "-0.6940566840750203\n",
      "-0.6948292069375981\n",
      "-0.7090606124973836\n",
      "-0.6940583545250575\n",
      "-0.6948287292978264\n",
      "Moutinho Another change for Wolves. Vitinha is on for Moutinho.\n",
      "-0.6774823069572449\n",
      "-0.6940588317970092\n",
      "-0.6948331474744198\n",
      "-0.6940594283872691\n",
      "-0.6948197735943478\n",
      "-0.7090653362467665\n",
      "-0.6940608602053452\n",
      "-0.6948225200015545\n",
      "na GOOAAALLL!!! Everton retake the lead! Wolves fail to clear their lines from the corner and Gomes latches onto the loose ball. The ex-Barcelona man floats in a wonderful cross from the left, and Keane is on hand to power home a brilliant header. It’s Wolves 1-2 Everton!\n",
      "-0.6774780750274658\n",
      "-0.6940599056597334\n",
      "-0.6948268187410209\n",
      "-0.7090636405392925\n",
      "-0.6940619340702476\n",
      "-0.6948257440544219\n",
      "-0.7090631560519709\n",
      "-0.694058115889167\n",
      "-0.6948225200015545\n",
      "-0.6940588317970092\n",
      "-0.6948229976383605\n",
      "-0.7090642461487745\n",
      "-0.6940569227105691\n",
      "-0.694833028063985\n",
      "-0.7090649728806371\n",
      "-0.6940564454395285\n",
      "-0.6948313563193941\n",
      "-0.7090621870780319\n",
      "-0.6940589511150327\n",
      "-0.6948262216927678\n",
      "-0.7090614603481938\n",
      "-0.6940595477053638\n",
      "-0.6948263411023898\n",
      "na Digne has made a miraculous recovery from an ankle injury which was initially set to keep him out for three months, and the France international’s quality was on show there with a perfectly cushioned first-time cross into Iwobi.\n",
      "-0.6774795055389404\n",
      "-0.6940610988418905\n",
      "-0.6948293263475767\n",
      "-0.70906448839267\n",
      "-0.6940558488510482\n",
      "-0.694833744526808\n",
      "-0.7090630349301772\n",
      "-0.6940575192996901\n",
      "-0.6948231170475976\n",
      "-0.6940568033927876\n",
      "-0.6948284904780261\n",
      "-0.6940621727070492\n",
      "-0.6948194153678768\n",
      "-0.7090652151247087\n",
      "-0.6940607408870939\n",
      "-0.6948225200015545\n",
      "-0.6940591897511225\n",
      "-0.6948215647286271\n",
      "-0.6940597863415959\n",
      "-0.6948284904780261\n",
      "-0.6940590704330705\n",
      "-0.6948266993313418\n",
      "-0.709065578490926\n",
      "-0.694060502250634\n",
      "-0.6948244305501471\n",
      "-0.7090636405392925\n",
      "-0.6940610988418905\n",
      "-0.694830162217826\n",
      "-0.7090653362467665\n",
      "-0.6940539397703027\n",
      "-0.6948336251163019\n",
      "-0.7090635194174401\n",
      "-0.6940633658919114\n",
      "-0.6948280128385965\n",
      "-0.7090650940026656\n",
      "-0.6940606215688568\n",
      "-0.6948266993313418\n",
      "-0.694061576115152\n",
      "-0.6948312369091731\n",
      "-0.6940570420283648\n",
      "-0.6948249081878656\n",
      "-0.6940601442960509\n",
      "-0.6948263411023898\n",
      "-0.7090649728806371\n",
      "-0.6940585931610048\n",
      "-0.6948255052353345\n",
      "-0.70906448839267\n",
      "-0.6940597863415959\n",
      "-0.694825863463987\n",
      "-0.7090660629794212\n",
      "-0.6940588317970092\n",
      "-0.6948264605120262\n",
      "-0.7090636405392925\n",
      "-0.694057280663999\n",
      "-0.6948311174989664\n",
      "-0.709062671564884\n",
      "-0.694060263614231\n",
      "-0.6948294457575696\n",
      "na GOAAAALLLLL!!!!! TOTTENHAM 1-0 FULHAM - Kane breaks the deadlock, and the pressure on the Fulham goal finally proves too much. Reguilon delivered a delicious cross into the box, and Kane stooped low to head into the bottom corner. A superb header from Spurs' star man.\n",
      "-0.6774797439575195\n",
      "-0.6940630079363033\n",
      "-0.6948284904780261\n",
      "-0.7090658207351443\n",
      "-0.6940587124789999\n",
      "-0.6948287292978264\n",
      "-0.70906448839267\n",
      "-0.6940601442960509\n",
      "-0.6948282516582828\n",
      "-0.694060263614231\n",
      "-0.6948280128385965\n",
      "-0.7090623081997229\n",
      "-0.6940593090691887\n",
      "-0.6948282516582828\n",
      "-0.6940621727070492\n",
      "-0.6948233558661147\n",
      "-0.7090633982956024\n",
      "-0.6940589511150327\n",
      "-0.6948302816279186\n",
      "-0.694060502250634\n",
      "-0.6948250275973309\n",
      "-0.7090638827830412\n",
      "-0.6940583545250575\n",
      "-0.6948263411023898\n",
      "na Silva goes down in the box looking for a penalty and is booked for his indiscretions instead. Four added minutes incoming.\n",
      "-0.6774795055389404\n",
      "-0.6940575192996901\n",
      "-0.6948253858258122\n",
      "-0.6940587124789999\n",
      "-0.6948253858258122\n",
      "-0.70906448839267\n",
      "-0.6940585931610048\n",
      "-0.6948323116016752\n",
      "-0.7090646095146398\n",
      "-0.6940570420283648\n",
      "-0.6948282516582828\n",
      "-0.7090646095146398\n",
      "-0.6940577579354381\n",
      "-0.6948304010380255\n",
      "-0.7090617025914145\n",
      "-0.6940569227105691\n",
      "-0.6948251470068104\n",
      "-0.6940620533886412\n",
      "-0.6948212065015146\n",
      "na GOAL! MATHEUS PEREIRA ADDS A SECOND FROM THE SPOT FOR WEST BROM! 3-2! This time, he puts his penalty to the right and Patricio goes the wrong way again. The Big Sam magic is alive and kicking in Molineux!\n",
      "-0.6774781942367554\n",
      "-0.694058473843024\n",
      "-0.6948308786785957\n",
      "-0.7090642461487745\n",
      "-0.6940585931610048\n",
      "-0.6948305204481467\n",
      "-0.7090621870780319\n",
      "-0.6940608602053452\n",
      "-0.6948259828735663\n",
      "na GOAL! WILLY BOLY BAGS A SECOND FOR WOLVES! 2-1! This game has turned on its head in a matter of minutes! Livermore fails to clear the corner at the first attempt and the Ivory Coast international blasts it in at close range.\n",
      "-0.6774808168411255\n",
      "-0.694057280663999\n",
      "-0.6948249081878656\n",
      "na A round of applause for that back-heel from Boly though. That's the assist of dreams! The dam finally breaks for West Brom. They will have to be on even greater guard now.\n",
      "-0.6774829030036926\n",
      "-0.6940577579354381\n",
      "-0.694825863463987\n",
      "-0.7090632771737793\n",
      "-0.6940601442960509\n",
      "-0.6948261022831599\n",
      "-0.7090638827830412\n",
      "-0.6940608602053452\n",
      "-0.6948229976383605\n",
      "na GOAL! MATHEUS PEREIRA GIVES WEST BROM THE LEAD! 1-0! He slides the penalty in at the left post as Patricio goes the wrong way. The best possible start for the Baggies!\n",
      "-0.6774764657020569\n",
      "-0.6940551329453415\n",
      "-0.6948335057058099\n",
      "-0.694060024977885\n",
      "-0.694822758819929\n",
      "Raphinha Bielsa's final change is made now, with Raphinha coming off for young winger Poveda to provide fresh legs on the flank.\n",
      "-0.6774804592132568\n",
      "-0.694060024977885\n",
      "-0.6948255052353345\n",
      "-0.6940613374784927\n",
      "-0.6948255052353345\n",
      "-0.7090637616611596\n",
      "-0.6940601442960509\n",
      "-0.6948224005923888\n",
      "-0.7090637616611596\n",
      "-0.694060502250634\n",
      "-0.6948250275973309\n",
      "-0.7090636405392925\n",
      "-0.6940579965712432\n",
      "-0.6948277740189673\n",
      "Rodrigo Bielsa makes a chance as he looks to get his side back in the game, bringing Rodrigo off and introducing Roberts in support of Bamford.\n",
      "-0.6774791479110718\n",
      "-0.6940579965712432\n",
      "-0.6948286098879191\n",
      "-0.709062671564884\n",
      "-0.694060502250634\n",
      "-0.6948306398582821\n",
      "-0.7090642461487745\n",
      "-0.6940618147518682\n",
      "-0.6948253858258122\n",
      "-0.7090656996130278\n",
      "-0.6940582352071051\n",
      "-0.6948264605120262\n",
      "na Ogbonna is booked after tripping Vydra on the counter attack. It was very similar to Tarkowski's trip on Antonio which was only deemed to be a warning by the referee.\n",
      "-0.677480936050415\n",
      "-0.6940552522629237\n",
      "-0.6948287292978264\n",
      "-0.7090669108348527\n",
      "-0.6940613374784927\n",
      "-0.69482729637988\n",
      "-0.7090635194174401\n",
      "-0.6940608602053452\n",
      "-0.6948325504223881\n",
      "-0.7090652151247087\n",
      "-0.694060024977885\n",
      "-0.6948253858258122\n",
      "-0.7090636405392925\n",
      "-0.6940621727070492\n",
      "-0.6948298039876336\n",
      "-0.6940589511150327\n",
      "-0.6948308786785957\n",
      "-0.7090640039049377\n"
     ]
    },
    {
     "data": {
      "text/plain": [
       "393.27418843097024"
      ]
     },
     "execution_count": 354,
     "metadata": {},
     "output_type": "execute_result"
    }
   ],
   "source": [
    "custom_loss(x_train[:200], data['commentary'][:200])"
   ]
  },
  {
   "cell_type": "code",
   "execution_count": 386,
   "id": "split-scanning",
   "metadata": {},
   "outputs": [],
   "source": [
    "model = Model(embed_df.shape[1], 256, 76)\n",
    "criterion = torch.nn.KLDivLoss()\n",
    "optimizer = torch.optim.SGD(model.parameters(), lr=0.001)"
   ]
  },
  {
   "cell_type": "code",
   "execution_count": 387,
   "id": "burning-january",
   "metadata": {
    "tags": []
   },
   "outputs": [
    {
     "data": {
      "text/plain": [
       "Model(\n",
       "  (fc1): Linear(in_features=76, out_features=256, bias=True)\n",
       "  (sig): Custom_Activation()\n",
       "  (fc2): Linear(in_features=256, out_features=76, bias=True)\n",
       "  (batch_norm): BatchNorm1d(76, eps=1e-05, momentum=0.1, affine=True, track_running_stats=True)\n",
       "  (tanh2): Tanh()\n",
       "  (fc3): Linear(in_features=76, out_features=76, bias=True)\n",
       "  (softmax): Softmax(dim=None)\n",
       ")"
      ]
     },
     "execution_count": 387,
     "metadata": {},
     "output_type": "execute_result"
    }
   ],
   "source": [
    "model.eval()"
   ]
  },
  {
   "cell_type": "code",
   "execution_count": 392,
   "id": "willing-hours",
   "metadata": {},
   "outputs": [
    {
     "ename": "RuntimeError",
     "evalue": "The size of tensor a (76) must match the size of tensor b (256) at non-singleton dimension 1",
     "output_type": "error",
     "traceback": [
      "\u001b[0;31m---------------------------------------------------------------------------\u001b[0m",
      "\u001b[0;31mRuntimeError\u001b[0m                              Traceback (most recent call last)",
      "\u001b[0;32m<ipython-input-392-66a90aed38a9>\u001b[0m in \u001b[0;36m<module>\u001b[0;34m\u001b[0m\n\u001b[0;32m----> 1\u001b[0;31m \u001b[0mh\u001b[0m \u001b[0;34m=\u001b[0m \u001b[0mmodel\u001b[0m\u001b[0;34m(\u001b[0m\u001b[0mx_train\u001b[0m\u001b[0;34m)\u001b[0m\u001b[0;34m\u001b[0m\u001b[0;34m\u001b[0m\u001b[0m\n\u001b[0m",
      "\u001b[0;32m~/anaconda3/envs/a7/lib/python3.7/site-packages/torch/nn/modules/module.py\u001b[0m in \u001b[0;36m_call_impl\u001b[0;34m(self, *input, **kwargs)\u001b[0m\n\u001b[1;32m    725\u001b[0m             \u001b[0mresult\u001b[0m \u001b[0;34m=\u001b[0m \u001b[0mself\u001b[0m\u001b[0;34m.\u001b[0m\u001b[0m_slow_forward\u001b[0m\u001b[0;34m(\u001b[0m\u001b[0;34m*\u001b[0m\u001b[0minput\u001b[0m\u001b[0;34m,\u001b[0m \u001b[0;34m**\u001b[0m\u001b[0mkwargs\u001b[0m\u001b[0;34m)\u001b[0m\u001b[0;34m\u001b[0m\u001b[0;34m\u001b[0m\u001b[0m\n\u001b[1;32m    726\u001b[0m         \u001b[0;32melse\u001b[0m\u001b[0;34m:\u001b[0m\u001b[0;34m\u001b[0m\u001b[0;34m\u001b[0m\u001b[0m\n\u001b[0;32m--> 727\u001b[0;31m             \u001b[0mresult\u001b[0m \u001b[0;34m=\u001b[0m \u001b[0mself\u001b[0m\u001b[0;34m.\u001b[0m\u001b[0mforward\u001b[0m\u001b[0;34m(\u001b[0m\u001b[0;34m*\u001b[0m\u001b[0minput\u001b[0m\u001b[0;34m,\u001b[0m \u001b[0;34m**\u001b[0m\u001b[0mkwargs\u001b[0m\u001b[0;34m)\u001b[0m\u001b[0;34m\u001b[0m\u001b[0;34m\u001b[0m\u001b[0m\n\u001b[0m\u001b[1;32m    728\u001b[0m         for hook in itertools.chain(\n\u001b[1;32m    729\u001b[0m                 \u001b[0m_global_forward_hooks\u001b[0m\u001b[0;34m.\u001b[0m\u001b[0mvalues\u001b[0m\u001b[0;34m(\u001b[0m\u001b[0;34m)\u001b[0m\u001b[0;34m,\u001b[0m\u001b[0;34m\u001b[0m\u001b[0;34m\u001b[0m\u001b[0m\n",
      "\u001b[0;32m<ipython-input-372-36fda819102b>\u001b[0m in \u001b[0;36mforward\u001b[0;34m(self, x)\u001b[0m\n\u001b[1;32m     16\u001b[0m     \u001b[0;32mdef\u001b[0m \u001b[0mforward\u001b[0m\u001b[0;34m(\u001b[0m\u001b[0mself\u001b[0m\u001b[0;34m,\u001b[0m \u001b[0mx\u001b[0m\u001b[0;34m)\u001b[0m\u001b[0;34m:\u001b[0m\u001b[0;34m\u001b[0m\u001b[0;34m\u001b[0m\u001b[0m\n\u001b[1;32m     17\u001b[0m         \u001b[0mfc1\u001b[0m \u001b[0;34m=\u001b[0m \u001b[0mself\u001b[0m\u001b[0;34m.\u001b[0m\u001b[0mfc1\u001b[0m\u001b[0;34m(\u001b[0m\u001b[0mx\u001b[0m\u001b[0;34m)\u001b[0m\u001b[0;34m\u001b[0m\u001b[0;34m\u001b[0m\u001b[0m\n\u001b[0;32m---> 18\u001b[0;31m         \u001b[0msig\u001b[0m \u001b[0;34m=\u001b[0m \u001b[0mself\u001b[0m\u001b[0;34m.\u001b[0m\u001b[0msig\u001b[0m\u001b[0;34m(\u001b[0m\u001b[0mfc1\u001b[0m\u001b[0;34m,\u001b[0m \u001b[0mself\u001b[0m\u001b[0;34m.\u001b[0m\u001b[0mfc1\u001b[0m\u001b[0;34m)\u001b[0m\u001b[0;34m\u001b[0m\u001b[0;34m\u001b[0m\u001b[0m\n\u001b[0m\u001b[1;32m     19\u001b[0m         \u001b[0mdropout\u001b[0m \u001b[0;34m=\u001b[0m \u001b[0mself\u001b[0m\u001b[0;34m.\u001b[0m\u001b[0mdropout\u001b[0m\u001b[0;34m(\u001b[0m\u001b[0msig\u001b[0m\u001b[0;34m)\u001b[0m\u001b[0;34m\u001b[0m\u001b[0;34m\u001b[0m\u001b[0m\n\u001b[1;32m     20\u001b[0m         \u001b[0mfc2\u001b[0m \u001b[0;34m=\u001b[0m \u001b[0mself\u001b[0m\u001b[0;34m.\u001b[0m\u001b[0mfc2\u001b[0m\u001b[0;34m(\u001b[0m\u001b[0mdropout\u001b[0m\u001b[0;34m)\u001b[0m\u001b[0;34m\u001b[0m\u001b[0;34m\u001b[0m\u001b[0m\n",
      "\u001b[0;32m~/anaconda3/envs/a7/lib/python3.7/site-packages/torch/nn/modules/module.py\u001b[0m in \u001b[0;36m_call_impl\u001b[0;34m(self, *input, **kwargs)\u001b[0m\n\u001b[1;32m    725\u001b[0m             \u001b[0mresult\u001b[0m \u001b[0;34m=\u001b[0m \u001b[0mself\u001b[0m\u001b[0;34m.\u001b[0m\u001b[0m_slow_forward\u001b[0m\u001b[0;34m(\u001b[0m\u001b[0;34m*\u001b[0m\u001b[0minput\u001b[0m\u001b[0;34m,\u001b[0m \u001b[0;34m**\u001b[0m\u001b[0mkwargs\u001b[0m\u001b[0;34m)\u001b[0m\u001b[0;34m\u001b[0m\u001b[0;34m\u001b[0m\u001b[0m\n\u001b[1;32m    726\u001b[0m         \u001b[0;32melse\u001b[0m\u001b[0;34m:\u001b[0m\u001b[0;34m\u001b[0m\u001b[0;34m\u001b[0m\u001b[0m\n\u001b[0;32m--> 727\u001b[0;31m             \u001b[0mresult\u001b[0m \u001b[0;34m=\u001b[0m \u001b[0mself\u001b[0m\u001b[0;34m.\u001b[0m\u001b[0mforward\u001b[0m\u001b[0;34m(\u001b[0m\u001b[0;34m*\u001b[0m\u001b[0minput\u001b[0m\u001b[0;34m,\u001b[0m \u001b[0;34m**\u001b[0m\u001b[0mkwargs\u001b[0m\u001b[0;34m)\u001b[0m\u001b[0;34m\u001b[0m\u001b[0;34m\u001b[0m\u001b[0m\n\u001b[0m\u001b[1;32m    728\u001b[0m         for hook in itertools.chain(\n\u001b[1;32m    729\u001b[0m                 \u001b[0m_global_forward_hooks\u001b[0m\u001b[0;34m.\u001b[0m\u001b[0mvalues\u001b[0m\u001b[0;34m(\u001b[0m\u001b[0;34m)\u001b[0m\u001b[0;34m,\u001b[0m\u001b[0;34m\u001b[0m\u001b[0;34m\u001b[0m\u001b[0m\n",
      "\u001b[0;32m<ipython-input-371-98bcab4fe2b7>\u001b[0m in \u001b[0;36mforward\u001b[0;34m(self, input_, layer)\u001b[0m\n\u001b[1;32m     60\u001b[0m     \u001b[0;32mdef\u001b[0m \u001b[0mforward\u001b[0m\u001b[0;34m(\u001b[0m\u001b[0mself\u001b[0m\u001b[0;34m,\u001b[0m \u001b[0minput_\u001b[0m\u001b[0;34m,\u001b[0m \u001b[0mlayer\u001b[0m \u001b[0;34m:\u001b[0m \u001b[0mtorch\u001b[0m\u001b[0;34m.\u001b[0m\u001b[0mnn\u001b[0m\u001b[0;34m.\u001b[0m\u001b[0mLinear\u001b[0m\u001b[0;34m)\u001b[0m\u001b[0;34m:\u001b[0m\u001b[0;34m\u001b[0m\u001b[0;34m\u001b[0m\u001b[0m\n\u001b[1;32m     61\u001b[0m \u001b[0;34m\u001b[0m\u001b[0m\n\u001b[0;32m---> 62\u001b[0;31m         \u001b[0;32mreturn\u001b[0m \u001b[0mg_c\u001b[0m\u001b[0;34m(\u001b[0m\u001b[0mlayer\u001b[0m\u001b[0;34m.\u001b[0m\u001b[0mweight\u001b[0m\u001b[0;34m,\u001b[0m \u001b[0mlayer\u001b[0m\u001b[0;34m.\u001b[0m\u001b[0mbias\u001b[0m\u001b[0;34m,\u001b[0m \u001b[0minput_\u001b[0m\u001b[0;34m)\u001b[0m\u001b[0;34m\u001b[0m\u001b[0;34m\u001b[0m\u001b[0m\n\u001b[0m",
      "\u001b[0;32m<ipython-input-371-98bcab4fe2b7>\u001b[0m in \u001b[0;36mg_c\u001b[0;34m(U_c, b_c, h)\u001b[0m\n\u001b[1;32m     49\u001b[0m \u001b[0;32mdef\u001b[0m \u001b[0mg_c\u001b[0m\u001b[0;34m(\u001b[0m\u001b[0mU_c\u001b[0m\u001b[0;34m,\u001b[0m \u001b[0mb_c\u001b[0m\u001b[0;34m,\u001b[0m \u001b[0mh\u001b[0m\u001b[0;34m)\u001b[0m\u001b[0;34m:\u001b[0m\u001b[0;34m\u001b[0m\u001b[0;34m\u001b[0m\u001b[0m\n\u001b[1;32m     50\u001b[0m \u001b[0;34m\u001b[0m\u001b[0m\n\u001b[0;32m---> 51\u001b[0;31m     \u001b[0mg_c\u001b[0m \u001b[0;34m=\u001b[0m \u001b[0mtorch\u001b[0m\u001b[0;34m.\u001b[0m\u001b[0mmm\u001b[0m\u001b[0;34m(\u001b[0m\u001b[0mh\u001b[0m\u001b[0;34m,\u001b[0m\u001b[0mU_c\u001b[0m\u001b[0;34m)\u001b[0m \u001b[0;34m+\u001b[0m \u001b[0mb_c\u001b[0m\u001b[0;34m\u001b[0m\u001b[0;34m\u001b[0m\u001b[0m\n\u001b[0m\u001b[1;32m     52\u001b[0m     \u001b[0;32mreturn\u001b[0m \u001b[0mtorch\u001b[0m\u001b[0;34m.\u001b[0m\u001b[0msigmoid\u001b[0m\u001b[0;34m(\u001b[0m\u001b[0mg_c\u001b[0m\u001b[0;34m)\u001b[0m\u001b[0;34m\u001b[0m\u001b[0;34m\u001b[0m\u001b[0m\n\u001b[1;32m     53\u001b[0m \u001b[0;34m\u001b[0m\u001b[0m\n",
      "\u001b[0;31mRuntimeError\u001b[0m: The size of tensor a (76) must match the size of tensor b (256) at non-singleton dimension 1"
     ]
    }
   ],
   "source": [
    "h = model(x_train)"
   ]
  },
  {
   "cell_type": "code",
   "execution_count": 389,
   "id": "national-preference",
   "metadata": {},
   "outputs": [
    {
     "data": {
      "text/plain": [
       "torch.Size([25000, 256])"
      ]
     },
     "execution_count": 389,
     "metadata": {},
     "output_type": "execute_result"
    }
   ],
   "source": [
    "h.shape"
   ]
  },
  {
   "cell_type": "code",
   "execution_count": 390,
   "id": "daily-district",
   "metadata": {},
   "outputs": [
    {
     "data": {
      "text/plain": [
       "torch.Size([256, 76])"
      ]
     },
     "execution_count": 390,
     "metadata": {},
     "output_type": "execute_result"
    }
   ],
   "source": [
    "model.fc1.weight.shape"
   ]
  },
  {
   "cell_type": "code",
   "execution_count": 391,
   "id": "falling-intellectual",
   "metadata": {},
   "outputs": [
    {
     "data": {
      "text/plain": [
       "torch.Size([256])"
      ]
     },
     "execution_count": 391,
     "metadata": {},
     "output_type": "execute_result"
    }
   ],
   "source": [
    "model.fc1.bias.shape"
   ]
  },
  {
   "cell_type": "code",
   "execution_count": 352,
   "id": "upper-thesaurus",
   "metadata": {},
   "outputs": [
    {
     "data": {
      "text/plain": [
       "Parameter containing:\n",
       "tensor([ 0.0673,  0.0618, -0.0784,  0.0577,  0.0440, -0.0673,  0.0105, -0.0783,\n",
       "         0.0185, -0.0910, -0.0819,  0.0205,  0.0125, -0.0843,  0.0829,  0.1110,\n",
       "         0.0569,  0.0924, -0.0845, -0.0174, -0.0053, -0.1097,  0.0819,  0.0418,\n",
       "         0.1041, -0.0076,  0.0902, -0.1025, -0.0162,  0.0225,  0.0527,  0.0351,\n",
       "         0.0637,  0.0701,  0.0319, -0.0827,  0.0099,  0.0893,  0.0563,  0.1031,\n",
       "         0.0805,  0.0158,  0.0608,  0.0673, -0.0657,  0.0406, -0.0964,  0.1060,\n",
       "        -0.1115, -0.0989, -0.0703, -0.0299, -0.0033, -0.1123, -0.0517,  0.0416,\n",
       "        -0.1033,  0.0753,  0.0658, -0.0561, -0.0038, -0.0902, -0.0627, -0.0910,\n",
       "        -0.0003, -0.1028, -0.0633, -0.0816, -0.0432, -0.1071,  0.0907, -0.0597,\n",
       "        -0.0129, -0.0076,  0.0259, -0.0469], requires_grad=True)"
      ]
     },
     "execution_count": 352,
     "metadata": {},
     "output_type": "execute_result"
    }
   ],
   "source": [
    "model.fc3.bias"
   ]
  },
  {
   "cell_type": "code",
   "execution_count": 202,
   "id": "every-switch",
   "metadata": {},
   "outputs": [],
   "source": [
    "for epoch in range(3):\n",
    "    \n",
    "    optimizer.zero_grad()\n",
    "    "
   ]
  },
  {
   "cell_type": "code",
   "execution_count": 176,
   "id": "likely-grocery",
   "metadata": {},
   "outputs": [
    {
     "name": "stdout",
     "output_type": "stream",
     "text": [
      "torch.Size([39427, 19])\n"
     ]
    }
   ],
   "source": [
    "\"\"\"\n",
    "    Get hidden representation of time\n",
    "\"\"\"\n",
    "# for i in range(len(p)):\n",
    "x = torch.FloatTensor(p.iloc[:, 0])\n",
    "print(x.shape)\n",
    "fc1 = torch.nn.Linear(x.shape[0], 100)(x.T)\n",
    "tanh = torch.nn.Tanh()(fc1)\n",
    "dropout = torch.nn.Dropout(p=0.5)(tanh)\n",
    "fc2 = torch.nn.Linear(100,x.shape[0])(dropout)\n",
    "batch = torch.nn.BatchNorm1d(x.shape[0])(fc2)\n",
    "tanh = torch.nn.Tanh()(batch)\n",
    "output = torch.nn.Linear(x.shape[0],100)(tanh)\n",
    "# output = torch.nn.Softmax()(output)"
   ]
  },
  {
   "cell_type": "code",
   "execution_count": 340,
   "id": "tropical-sponsorship",
   "metadata": {},
   "outputs": [
    {
     "ename": "AttributeError",
     "evalue": "'list' object has no attribute 'T'",
     "output_type": "error",
     "traceback": [
      "\u001b[0;31m---------------------------------------------------------------------------\u001b[0m",
      "\u001b[0;31mAttributeError\u001b[0m                            Traceback (most recent call last)",
      "\u001b[0;32m<ipython-input-340-368b28171c6a>\u001b[0m in \u001b[0;36m<module>\u001b[0;34m\u001b[0m\n\u001b[0;32m----> 1\u001b[0;31m \u001b[0mnp\u001b[0m\u001b[0;34m.\u001b[0m\u001b[0mdot\u001b[0m\u001b[0;34m(\u001b[0m\u001b[0;34m[\u001b[0m\u001b[0;36m1\u001b[0m\u001b[0;34m,\u001b[0m\u001b[0;36m23\u001b[0m\u001b[0;34m,\u001b[0m\u001b[0;36m45\u001b[0m\u001b[0;34m,\u001b[0m\u001b[0;36m6\u001b[0m\u001b[0;34m]\u001b[0m\u001b[0;34m,\u001b[0m \u001b[0;34m[\u001b[0m\u001b[0;34m[\u001b[0m\u001b[0;36m2\u001b[0m\u001b[0;34m]\u001b[0m\u001b[0;34m,\u001b[0m\u001b[0;34m[\u001b[0m\u001b[0;36m4\u001b[0m\u001b[0;34m]\u001b[0m\u001b[0;34m,\u001b[0m\u001b[0;34m[\u001b[0m\u001b[0;36m6\u001b[0m\u001b[0;34m]\u001b[0m\u001b[0;34m]\u001b[0m\u001b[0;34m.\u001b[0m\u001b[0mT\u001b[0m\u001b[0;34m)\u001b[0m\u001b[0;34m\u001b[0m\u001b[0;34m\u001b[0m\u001b[0m\n\u001b[0m",
      "\u001b[0;31mAttributeError\u001b[0m: 'list' object has no attribute 'T'"
     ]
    }
   ],
   "source": [
    "np.dot([1,23,45,6], ["
   ]
  },
  {
   "cell_type": "code",
   "execution_count": null,
   "id": "cleared-queens",
   "metadata": {},
   "outputs": [],
   "source": []
  }
 ],
 "metadata": {
  "kernelspec": {
   "display_name": "a7",
   "language": "python",
   "name": "a7"
  },
  "language_info": {
   "codemirror_mode": {
    "name": "ipython",
    "version": 3
   },
   "file_extension": ".py",
   "mimetype": "text/x-python",
   "name": "python",
   "nbconvert_exporter": "python",
   "pygments_lexer": "ipython3",
   "version": "3.7.10"
  }
 },
 "nbformat": 4,
 "nbformat_minor": 5
}
