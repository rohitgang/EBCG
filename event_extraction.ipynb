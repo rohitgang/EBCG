{
 "cells": [
  {
   "cell_type": "code",
   "execution_count": 1,
   "id": "assured-suspect",
   "metadata": {},
   "outputs": [],
   "source": [
    "from torch import nn\n",
    "from fastai.tabular.all import * \n",
    "from fastcore.utils import *\n",
    "import pandas as pd\n",
    "import numpy as np"
   ]
  },
  {
   "cell_type": "code",
   "execution_count": 2,
   "id": "handled-porter",
   "metadata": {},
   "outputs": [],
   "source": [
    "data = pd.read_pickle('event_data.pickle')"
   ]
  },
  {
   "cell_type": "code",
   "execution_count": 3,
   "id": "suspected-canberra",
   "metadata": {},
   "outputs": [
    {
     "data": {
      "text/html": [
       "<div>\n",
       "<style scoped>\n",
       "    .dataframe tbody tr th:only-of-type {\n",
       "        vertical-align: middle;\n",
       "    }\n",
       "\n",
       "    .dataframe tbody tr th {\n",
       "        vertical-align: top;\n",
       "    }\n",
       "\n",
       "    .dataframe thead th {\n",
       "        text-align: right;\n",
       "    }\n",
       "</style>\n",
       "<table border=\"1\" class=\"dataframe\">\n",
       "  <thead>\n",
       "    <tr style=\"text-align: right;\">\n",
       "      <th></th>\n",
       "      <th>time</th>\n",
       "      <th>event</th>\n",
       "      <th>player_sub</th>\n",
       "      <th>main_player</th>\n",
       "      <th>commentary</th>\n",
       "    </tr>\n",
       "  </thead>\n",
       "  <tbody>\n",
       "    <tr>\n",
       "      <th>0</th>\n",
       "      <td>89'</td>\n",
       "      <td>Yellow Card</td>\n",
       "      <td>na</td>\n",
       "      <td>K. Phillips</td>\n",
       "      <td>A hasty challenge from Kalvin Phillips now and his booking is more costly than usual; it is his fifth, earning him a one-match ban.</td>\n",
       "    </tr>\n",
       "    <tr>\n",
       "      <th>1</th>\n",
       "      <td>87'</td>\n",
       "      <td>Substitution</td>\n",
       "      <td>H. Kane</td>\n",
       "      <td>Carlos Vinícius</td>\n",
       "      <td>Harry Kane - who became a father this week - makes way for Tottenham's final change, with Carlos Vinicius on his place.</td>\n",
       "    </tr>\n",
       "    <tr>\n",
       "      <th>2</th>\n",
       "      <td>85'</td>\n",
       "      <td>Yellow Card</td>\n",
       "      <td>na</td>\n",
       "      <td>P. Højbjerg</td>\n",
       "      <td>Hojbjerg picks up a late booking here, as the minutes tick down. Tottenham will be pleased with this though; a winning start to 2021 is just what they need.</td>\n",
       "    </tr>\n",
       "    <tr>\n",
       "      <th>3</th>\n",
       "      <td>78'</td>\n",
       "      <td>Substitution</td>\n",
       "      <td>T. Ndombèlé</td>\n",
       "      <td>Lucas Moura</td>\n",
       "      <td>Tottenham make their second change now, with Ndombele making way for Lucas Moura.</td>\n",
       "    </tr>\n",
       "    <tr>\n",
       "      <th>4</th>\n",
       "      <td>76'</td>\n",
       "      <td>Substitution</td>\n",
       "      <td>H. Winks</td>\n",
       "      <td>M. Sissoko</td>\n",
       "      <td>Lloris gets a glance to this one and Ayling's return ball sails wide of the mark. Moussa Sissoko replaces Winks for the hosts.</td>\n",
       "    </tr>\n",
       "  </tbody>\n",
       "</table>\n",
       "</div>"
      ],
      "text/plain": [
       "  time         event   player_sub      main_player  \\\n",
       "0  89'   Yellow Card           na      K. Phillips   \n",
       "1  87'  Substitution      H. Kane  Carlos Vinícius   \n",
       "2  85'   Yellow Card           na      P. Højbjerg   \n",
       "3  78'  Substitution  T. Ndombèlé      Lucas Moura   \n",
       "4  76'  Substitution     H. Winks       M. Sissoko   \n",
       "\n",
       "                                                                                                                                                     commentary  \n",
       "0                           A hasty challenge from Kalvin Phillips now and his booking is more costly than usual; it is his fifth, earning him a one-match ban.  \n",
       "1                                       Harry Kane - who became a father this week - makes way for Tottenham's final change, with Carlos Vinicius on his place.  \n",
       "2  Hojbjerg picks up a late booking here, as the minutes tick down. Tottenham will be pleased with this though; a winning start to 2021 is just what they need.  \n",
       "3                                                                             Tottenham make their second change now, with Ndombele making way for Lucas Moura.  \n",
       "4                                Lloris gets a glance to this one and Ayling's return ball sails wide of the mark. Moussa Sissoko replaces Winks for the hosts.  "
      ]
     },
     "execution_count": 3,
     "metadata": {},
     "output_type": "execute_result"
    }
   ],
   "source": [
    "data.head()"
   ]
  },
  {
   "cell_type": "code",
   "execution_count": 4,
   "id": "scientific-technology",
   "metadata": {},
   "outputs": [],
   "source": [
    "from tensorflow.keras.preprocessing import sequence\n",
    "from tensorflow.keras.preprocessing.text import Tokenizer\n",
    "\n",
    "class Preprocessing:\n",
    "    \n",
    "    def __init__(self, data, max_len):\n",
    "        self.data = data\n",
    "        self.max_len = max_len\n",
    "        self.max_words = 500\n",
    "        \n",
    "    def prepare_tokens(self):\n",
    "        self.tokens = Tokenizer(num_words=self.max_words)\n",
    "        self.tokens.fit_on_texts(self.data)\n",
    "        \n",
    "    def sequence_to_token(self, x):\n",
    "        sequences = self.tokens.texts_to_sequences(x)\n",
    "        return sequence.pad_sequences(sequences, maxlen=self.max_len)"
   ]
  },
  {
   "cell_type": "code",
   "execution_count": 5,
   "id": "drawn-climb",
   "metadata": {},
   "outputs": [],
   "source": [
    "pp = Preprocessing(data['commentary'], 15)"
   ]
  },
  {
   "cell_type": "code",
   "execution_count": 6,
   "id": "earned-frank",
   "metadata": {},
   "outputs": [],
   "source": [
    "pp.prepare_tokens()"
   ]
  },
  {
   "cell_type": "code",
   "execution_count": 74,
   "id": "scenic-entrepreneur",
   "metadata": {},
   "outputs": [],
   "source": [
    "seq = pp.sequence_to_token(data['commentary'][0])"
   ]
  },
  {
   "cell_type": "code",
   "execution_count": 75,
   "id": "increasing-dream",
   "metadata": {},
   "outputs": [
    {
     "data": {
      "text/plain": [
       "array([[0, 0, 0, ..., 0, 0, 2],\n",
       "       [0, 0, 0, ..., 0, 0, 0],\n",
       "       [0, 0, 0, ..., 0, 0, 0],\n",
       "       ...,\n",
       "       [0, 0, 0, ..., 0, 0, 2],\n",
       "       [0, 0, 0, ..., 0, 0, 0],\n",
       "       [0, 0, 0, ..., 0, 0, 0]], dtype=int32)"
      ]
     },
     "execution_count": 75,
     "metadata": {},
     "output_type": "execute_result"
    }
   ],
   "source": [
    "seq"
   ]
  },
  {
   "cell_type": "code",
   "execution_count": 60,
   "id": "solar-distribution",
   "metadata": {},
   "outputs": [
    {
     "data": {
      "text/plain": [
       "'A hasty challenge from Kalvin Phillips now and his booking is more costly than usual; it is his fifth, earning him a one-match ban.'"
      ]
     },
     "execution_count": 60,
     "metadata": {},
     "output_type": "execute_result"
    }
   ],
   "source": [
    "data['commentary'][0]"
   ]
  },
  {
   "cell_type": "code",
   "execution_count": 7,
   "id": "distinct-faith",
   "metadata": {},
   "outputs": [
    {
     "data": {
      "text/plain": [
       "([], ['time', 'event', 'player_sub', 'main_player'])"
      ]
     },
     "execution_count": 7,
     "metadata": {},
     "output_type": "execute_result"
    }
   ],
   "source": [
    "cont, cat = cont_cat_split(data, dep_var='commentary')\n",
    "cont, cat"
   ]
  },
  {
   "cell_type": "code",
   "execution_count": 8,
   "id": "eleven-delta",
   "metadata": {},
   "outputs": [],
   "source": [
    "procs_nn = [Categorify]\n",
    "device = torch.device('cpu')\n",
    "to_nn = TabularPandas(data, procs_nn, cat,\n",
    "                      y_names='commentary', reduce_memory=False)\n",
    "dls = to_nn.dataloaders(1024, device=device)"
   ]
  },
  {
   "cell_type": "code",
   "execution_count": 9,
   "id": "environmental-occasions",
   "metadata": {},
   "outputs": [
    {
     "data": {
      "text/html": [
       "<table border=\"1\" class=\"dataframe\">\n",
       "  <thead>\n",
       "    <tr style=\"text-align: left;\">\n",
       "      <th>epoch</th>\n",
       "      <th>train_loss</th>\n",
       "      <th>valid_loss</th>\n",
       "      <th>time</th>\n",
       "    </tr>\n",
       "  </thead>\n",
       "  <tbody>\n",
       "    <tr>\n",
       "      <td>0</td>\n",
       "      <td>8.095457</td>\n",
       "      <td>None</td>\n",
       "      <td>00:24</td>\n",
       "    </tr>\n",
       "    <tr>\n",
       "      <td>1</td>\n",
       "      <td>3.281805</td>\n",
       "      <td>None</td>\n",
       "      <td>00:24</td>\n",
       "    </tr>\n",
       "    <tr>\n",
       "      <td>2</td>\n",
       "      <td>1.365951</td>\n",
       "      <td>None</td>\n",
       "      <td>00:24</td>\n",
       "    </tr>\n",
       "    <tr>\n",
       "      <td>3</td>\n",
       "      <td>0.629997</td>\n",
       "      <td>None</td>\n",
       "      <td>00:31</td>\n",
       "    </tr>\n",
       "  </tbody>\n",
       "</table>"
      ],
      "text/plain": [
       "<IPython.core.display.HTML object>"
      ]
     },
     "metadata": {},
     "output_type": "display_data"
    },
    {
     "name": "stderr",
     "output_type": "stream",
     "text": [
      "/home/ROHITGANGURDE/anaconda3/envs/a7/lib/python3.7/site-packages/fastprogress/fastprogress.py:74: UserWarning: Your generator is empty.\n",
      "  warn(\"Your generator is empty.\")\n"
     ]
    }
   ],
   "source": [
    "learn = tabular_learner(dls, layers=[1000, 700, 400, 300, 400], n_out=len(data['commentary']))\n",
    "learn.fit_one_cycle(4, 5e-4)"
   ]
  },
  {
   "cell_type": "code",
   "execution_count": 10,
   "id": "earned-internet",
   "metadata": {},
   "outputs": [],
   "source": [
    "def embed_features(learner, x):\n",
    "    x = x.copy()\n",
    "    for i, col in enumerate(learn.dls.cat_names):\n",
    "        embed = learn.model.embeds[i]\n",
    "        print(col)\n",
    "        print(x[col])\n",
    "        embed_data = embed(tensor(x[col], dtype=torch.int64).to(device))\n",
    "        embed_names = [f'{col}_{j}' for j in range(embed_data.shape[1])]\n",
    "        features = pd.DataFrame(data=embed_data, index=x.index, columns=embed_names)\n",
    "        x = x.drop(col, axis=1)\n",
    "        x = x.join(features)\n",
    "    return x"
   ]
  },
  {
   "cell_type": "code",
   "execution_count": 11,
   "id": "strong-aging",
   "metadata": {
    "collapsed": true,
    "jupyter": {
     "outputs_hidden": true
    },
    "tags": []
   },
   "outputs": [
    {
     "name": "stdout",
     "output_type": "stream",
     "text": [
      "time\n",
      "0        74\n",
      "1        72\n",
      "2        70\n",
      "3        62\n",
      "4        60\n",
      "         ..\n",
      "39422    27\n",
      "39423    26\n",
      "39424    19\n",
      "39425    19\n",
      "39426     3\n",
      "Name: time, Length: 39427, dtype: int8\n",
      "event\n",
      "0        7\n",
      "1        6\n",
      "2        7\n",
      "3        6\n",
      "4        6\n",
      "        ..\n",
      "39422    7\n",
      "39423    7\n",
      "39424    1\n",
      "39425    2\n",
      "39426    7\n",
      "Name: event, Length: 39427, dtype: int8\n",
      "player_sub\n",
      "0        103\n",
      "1         39\n",
      "2        103\n",
      "3         96\n",
      "4         40\n",
      "        ... \n",
      "39422    103\n",
      "39423    103\n",
      "39424    103\n",
      "39425    103\n",
      "39426    103\n",
      "Name: player_sub, Length: 39427, dtype: int8\n",
      "main_player\n",
      "0        103\n",
      "1         37\n",
      "2        138\n",
      "3        111\n",
      "4        126\n",
      "        ... \n",
      "39422    112\n",
      "39423     66\n",
      "39424    180\n",
      "39425     78\n",
      "39426    176\n",
      "Name: main_player, Length: 39427, dtype: int16\n"
     ]
    }
   ],
   "source": [
    "embed_xs = embed_features(learn, to_nn.xs)"
   ]
  },
  {
   "cell_type": "code",
   "execution_count": 12,
   "id": "promising-skating",
   "metadata": {},
   "outputs": [
    {
     "data": {
      "text/html": [
       "<div>\n",
       "<style scoped>\n",
       "    .dataframe tbody tr th:only-of-type {\n",
       "        vertical-align: middle;\n",
       "    }\n",
       "\n",
       "    .dataframe tbody tr th {\n",
       "        vertical-align: top;\n",
       "    }\n",
       "\n",
       "    .dataframe thead th {\n",
       "        text-align: right;\n",
       "    }\n",
       "</style>\n",
       "<table border=\"1\" class=\"dataframe\">\n",
       "  <thead>\n",
       "    <tr style=\"text-align: right;\">\n",
       "      <th></th>\n",
       "      <th>time_0</th>\n",
       "      <th>time_1</th>\n",
       "      <th>time_2</th>\n",
       "      <th>time_3</th>\n",
       "      <th>time_4</th>\n",
       "      <th>time_5</th>\n",
       "      <th>time_6</th>\n",
       "      <th>time_7</th>\n",
       "      <th>time_8</th>\n",
       "      <th>time_9</th>\n",
       "      <th>...</th>\n",
       "      <th>main_player_20</th>\n",
       "      <th>main_player_21</th>\n",
       "      <th>main_player_22</th>\n",
       "      <th>main_player_23</th>\n",
       "      <th>main_player_24</th>\n",
       "      <th>main_player_25</th>\n",
       "      <th>main_player_26</th>\n",
       "      <th>main_player_27</th>\n",
       "      <th>main_player_28</th>\n",
       "      <th>main_player_29</th>\n",
       "    </tr>\n",
       "  </thead>\n",
       "  <tbody>\n",
       "    <tr>\n",
       "      <th>0</th>\n",
       "      <td>0.001002</td>\n",
       "      <td>0.007036</td>\n",
       "      <td>0.005984</td>\n",
       "      <td>-0.004348</td>\n",
       "      <td>0.001814</td>\n",
       "      <td>0.008016</td>\n",
       "      <td>0.006264</td>\n",
       "      <td>0.008620</td>\n",
       "      <td>-0.003003</td>\n",
       "      <td>0.001439</td>\n",
       "      <td>...</td>\n",
       "      <td>-0.005906</td>\n",
       "      <td>-0.008150</td>\n",
       "      <td>-0.002877</td>\n",
       "      <td>0.007581</td>\n",
       "      <td>0.018791</td>\n",
       "      <td>0.001031</td>\n",
       "      <td>0.002131</td>\n",
       "      <td>-0.000487</td>\n",
       "      <td>0.003769</td>\n",
       "      <td>0.003684</td>\n",
       "    </tr>\n",
       "    <tr>\n",
       "      <th>1</th>\n",
       "      <td>0.010639</td>\n",
       "      <td>-0.016127</td>\n",
       "      <td>-0.009577</td>\n",
       "      <td>-0.009570</td>\n",
       "      <td>-0.009424</td>\n",
       "      <td>-0.015530</td>\n",
       "      <td>0.013682</td>\n",
       "      <td>0.015672</td>\n",
       "      <td>-0.009195</td>\n",
       "      <td>0.006055</td>\n",
       "      <td>...</td>\n",
       "      <td>0.013013</td>\n",
       "      <td>-0.000970</td>\n",
       "      <td>0.002576</td>\n",
       "      <td>0.001886</td>\n",
       "      <td>0.003016</td>\n",
       "      <td>-0.002080</td>\n",
       "      <td>0.009623</td>\n",
       "      <td>-0.000004</td>\n",
       "      <td>-0.009072</td>\n",
       "      <td>-0.003860</td>\n",
       "    </tr>\n",
       "    <tr>\n",
       "      <th>2</th>\n",
       "      <td>-0.007014</td>\n",
       "      <td>-0.000990</td>\n",
       "      <td>0.004420</td>\n",
       "      <td>0.011357</td>\n",
       "      <td>-0.002832</td>\n",
       "      <td>-0.009795</td>\n",
       "      <td>0.005411</td>\n",
       "      <td>-0.000264</td>\n",
       "      <td>0.009012</td>\n",
       "      <td>-0.002365</td>\n",
       "      <td>...</td>\n",
       "      <td>-0.015261</td>\n",
       "      <td>0.008452</td>\n",
       "      <td>-0.005777</td>\n",
       "      <td>0.005140</td>\n",
       "      <td>0.002874</td>\n",
       "      <td>0.012239</td>\n",
       "      <td>-0.008042</td>\n",
       "      <td>-0.004935</td>\n",
       "      <td>0.008402</td>\n",
       "      <td>0.001875</td>\n",
       "    </tr>\n",
       "    <tr>\n",
       "      <th>3</th>\n",
       "      <td>0.004507</td>\n",
       "      <td>-0.003805</td>\n",
       "      <td>0.016493</td>\n",
       "      <td>-0.007968</td>\n",
       "      <td>-0.010683</td>\n",
       "      <td>-0.003151</td>\n",
       "      <td>-0.010673</td>\n",
       "      <td>0.001802</td>\n",
       "      <td>-0.003902</td>\n",
       "      <td>0.013069</td>\n",
       "      <td>...</td>\n",
       "      <td>-0.003367</td>\n",
       "      <td>0.002342</td>\n",
       "      <td>-0.014807</td>\n",
       "      <td>0.006426</td>\n",
       "      <td>-0.004879</td>\n",
       "      <td>0.018765</td>\n",
       "      <td>0.007695</td>\n",
       "      <td>-0.006071</td>\n",
       "      <td>0.001078</td>\n",
       "      <td>-0.003385</td>\n",
       "    </tr>\n",
       "    <tr>\n",
       "      <th>4</th>\n",
       "      <td>0.004794</td>\n",
       "      <td>0.001210</td>\n",
       "      <td>-0.002050</td>\n",
       "      <td>-0.007702</td>\n",
       "      <td>-0.022302</td>\n",
       "      <td>-0.001115</td>\n",
       "      <td>0.002429</td>\n",
       "      <td>-0.011666</td>\n",
       "      <td>-0.013835</td>\n",
       "      <td>-0.012294</td>\n",
       "      <td>...</td>\n",
       "      <td>-0.021521</td>\n",
       "      <td>0.016103</td>\n",
       "      <td>0.016421</td>\n",
       "      <td>-0.004788</td>\n",
       "      <td>0.005815</td>\n",
       "      <td>0.003511</td>\n",
       "      <td>-0.001796</td>\n",
       "      <td>0.011811</td>\n",
       "      <td>-0.011315</td>\n",
       "      <td>0.004347</td>\n",
       "    </tr>\n",
       "  </tbody>\n",
       "</table>\n",
       "<p>5 rows × 76 columns</p>\n",
       "</div>"
      ],
      "text/plain": [
       "     time_0    time_1    time_2    time_3    time_4    time_5    time_6  \\\n",
       "0  0.001002  0.007036  0.005984 -0.004348  0.001814  0.008016  0.006264   \n",
       "1  0.010639 -0.016127 -0.009577 -0.009570 -0.009424 -0.015530  0.013682   \n",
       "2 -0.007014 -0.000990  0.004420  0.011357 -0.002832 -0.009795  0.005411   \n",
       "3  0.004507 -0.003805  0.016493 -0.007968 -0.010683 -0.003151 -0.010673   \n",
       "4  0.004794  0.001210 -0.002050 -0.007702 -0.022302 -0.001115  0.002429   \n",
       "\n",
       "     time_7    time_8    time_9  ...  main_player_20  main_player_21  \\\n",
       "0  0.008620 -0.003003  0.001439  ...       -0.005906       -0.008150   \n",
       "1  0.015672 -0.009195  0.006055  ...        0.013013       -0.000970   \n",
       "2 -0.000264  0.009012 -0.002365  ...       -0.015261        0.008452   \n",
       "3  0.001802 -0.003902  0.013069  ...       -0.003367        0.002342   \n",
       "4 -0.011666 -0.013835 -0.012294  ...       -0.021521        0.016103   \n",
       "\n",
       "   main_player_22  main_player_23  main_player_24  main_player_25  \\\n",
       "0       -0.002877        0.007581        0.018791        0.001031   \n",
       "1        0.002576        0.001886        0.003016       -0.002080   \n",
       "2       -0.005777        0.005140        0.002874        0.012239   \n",
       "3       -0.014807        0.006426       -0.004879        0.018765   \n",
       "4        0.016421       -0.004788        0.005815        0.003511   \n",
       "\n",
       "   main_player_26  main_player_27  main_player_28  main_player_29  \n",
       "0        0.002131       -0.000487        0.003769        0.003684  \n",
       "1        0.009623       -0.000004       -0.009072       -0.003860  \n",
       "2       -0.008042       -0.004935        0.008402        0.001875  \n",
       "3        0.007695       -0.006071        0.001078       -0.003385  \n",
       "4       -0.001796        0.011811       -0.011315        0.004347  \n",
       "\n",
       "[5 rows x 76 columns]"
      ]
     },
     "execution_count": 12,
     "metadata": {},
     "output_type": "execute_result"
    }
   ],
   "source": [
    "embed_xs.head()"
   ]
  },
  {
   "cell_type": "code",
   "execution_count": 13,
   "id": "metropolitan-preservation",
   "metadata": {},
   "outputs": [],
   "source": [
    "data['tok_comm'] = data['commentary'].apply(lambda x : pp.sequence_to_token(x))"
   ]
  },
  {
   "cell_type": "code",
   "execution_count": 14,
   "id": "labeled-morrison",
   "metadata": {},
   "outputs": [],
   "source": [
    "commentary = data['commentary']\n",
    "data = data.drop('commentary', axis=1)"
   ]
  },
  {
   "cell_type": "code",
   "execution_count": 15,
   "id": "wrong-fabric",
   "metadata": {},
   "outputs": [],
   "source": [
    "from sklearn.model_selection import train_test_split\n",
    "\n",
    "x_tr, x_te, y_tr, y_te = train_test_split(embed_xs, data['tok_comm'],\n",
    "                                          test_size=0.33, random_state=42)"
   ]
  },
  {
   "cell_type": "code",
   "execution_count": 16,
   "id": "cosmetic-writing",
   "metadata": {},
   "outputs": [],
   "source": [
    "tr_id, te_id = x_te.index, x_te.index\n",
    "x_tr = torch.FloatTensor(x_tr.values)\n",
    "x_te = torch.FloatTensor(x_te.values)"
   ]
  },
  {
   "cell_type": "code",
   "execution_count": 98,
   "id": "searching-proceeding",
   "metadata": {},
   "outputs": [],
   "source": [
    "\"\"\"\n",
    "    Network Process\n",
    "\"\"\"\n",
    "\n",
    "fc1 = torch.nn.Linear(x_tr.shape[1], 200)\n",
    "tanh = torch.nn.Tanh()\n",
    "fc2 = torch.nn.Linear(200, x_tr.shape[1])\n",
    "dropout = torch.nn.Dropout(p=0.4)\n",
    "# batch = torch.nn.BatchNorm1d(x_tr.shape[1])\n",
    "h = torch.nn.Linear(embed_xs.shape[1], 200)\n",
    "fc3 = torch.nn.Linear(200, x_tr.shape[0])\n",
    "# gc = torch.sigmoid(torch.mm(h.weight, h) + h.bias)\n",
    "lstm1 = torch.nn.LSTM(76, 128)\n",
    "tags = torch.nn.Linear(128,x_tr.shape[0])"
   ]
  },
  {
   "cell_type": "code",
   "execution_count": 99,
   "id": "finished-instrument",
   "metadata": {},
   "outputs": [],
   "source": [
    "lay1 = fc1(x_tr)\n",
    "tanh_ = tanh(lay1)\n",
    "lay2 = fc2(tanh_)\n",
    "drop = dropout(lay2)\n",
    "# batch_ = batch(drop)\n",
    "h_ = h(drop)\n",
    "sig = torch.nn.Sigmoid()\n",
    "# gc = sig(torch.mm(h.weight.T, h_.T) + h.bias)\n",
    "sig = sig(h_)\n",
    "lay3 = fc3(gc)\n",
    "lstm_, _ = lstm1(lay3.view(x_tr.shape[0], 1, 76))\n",
    "# lstm_ = lstm1(sig, y_tr)\n",
    "t = tags(lstm_)"
   ]
  },
  {
   "cell_type": "code",
   "execution_count": 101,
   "id": "bronze-times",
   "metadata": {},
   "outputs": [
    {
     "data": {
      "text/plain": [
       "torch.Size([26416, 1, 26416])"
      ]
     },
     "execution_count": 101,
     "metadata": {},
     "output_type": "execute_result"
    }
   ],
   "source": [
    "t.shape"
   ]
  },
  {
   "cell_type": "code",
   "execution_count": 81,
   "id": "spread-static",
   "metadata": {},
   "outputs": [
    {
     "data": {
      "text/plain": [
       "torch.Size([26416, 1, 76])"
      ]
     },
     "execution_count": 81,
     "metadata": {},
     "output_type": "execute_result"
    }
   ],
   "source": [
    "lay3.view(x_tr.shape[0], 1, 76).shape"
   ]
  },
  {
   "cell_type": "code",
   "execution_count": 163,
   "id": "lesbian-rider",
   "metadata": {},
   "outputs": [
    {
     "data": {
      "text/plain": [
       "torch.Size([2, 76])"
      ]
     },
     "execution_count": 163,
     "metadata": {},
     "output_type": "execute_result"
    }
   ],
   "source": [
    "torch.mm(h_,x_tr[0:2]).shape"
   ]
  },
  {
   "cell_type": "code",
   "execution_count": 171,
   "id": "hawaiian-vintage",
   "metadata": {},
   "outputs": [
    {
     "data": {
      "text/plain": [
       "torch.Size([76, 76])"
      ]
     },
     "execution_count": 171,
     "metadata": {},
     "output_type": "execute_result"
    }
   ],
   "source": [
    "torch.mm(h2.weight,torch.mm(h_,x_tr[0:2])).shape"
   ]
  },
  {
   "cell_type": "code",
   "execution_count": 175,
   "id": "hairy-government",
   "metadata": {},
   "outputs": [
    {
     "data": {
      "text/plain": [
       "tensor([0.5562, 0.5094], grad_fn=<SelectBackward>)"
      ]
     },
     "execution_count": 175,
     "metadata": {},
     "output_type": "execute_result"
    }
   ],
   "source": [
    "h2.weight["
   ]
  },
  {
   "cell_type": "code",
   "execution_count": null,
   "id": "domestic-resistance",
   "metadata": {},
   "outputs": [],
   "source": []
  }
 ],
 "metadata": {
  "kernelspec": {
   "display_name": "a7",
   "language": "python",
   "name": "a7"
  },
  "language_info": {
   "codemirror_mode": {
    "name": "ipython",
    "version": 3
   },
   "file_extension": ".py",
   "mimetype": "text/x-python",
   "name": "python",
   "nbconvert_exporter": "python",
   "pygments_lexer": "ipython3",
   "version": "3.7.10"
  }
 },
 "nbformat": 4,
 "nbformat_minor": 5
}
