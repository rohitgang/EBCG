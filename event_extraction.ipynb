{
 "cells": [
  {
   "cell_type": "code",
   "execution_count": 3,
   "id": "brief-cylinder",
   "metadata": {},
   "outputs": [],
   "source": [
    "from torch import nn\n",
    "from fastai.tabular.all import * \n",
    "from fastcore.utils import *\n",
    "import pandas as pd\n",
    "import numpy as np"
   ]
  },
  {
   "cell_type": "code",
   "execution_count": 84,
   "id": "introductory-graphic",
   "metadata": {},
   "outputs": [],
   "source": [
    "data = pd.read_pickle('event_data.pickle')"
   ]
  },
  {
   "cell_type": "code",
   "execution_count": 85,
   "id": "forbidden-advancement",
   "metadata": {},
   "outputs": [
    {
     "data": {
      "text/html": [
       "<div>\n",
       "<style scoped>\n",
       "    .dataframe tbody tr th:only-of-type {\n",
       "        vertical-align: middle;\n",
       "    }\n",
       "\n",
       "    .dataframe tbody tr th {\n",
       "        vertical-align: top;\n",
       "    }\n",
       "\n",
       "    .dataframe thead th {\n",
       "        text-align: right;\n",
       "    }\n",
       "</style>\n",
       "<table border=\"1\" class=\"dataframe\">\n",
       "  <thead>\n",
       "    <tr style=\"text-align: right;\">\n",
       "      <th></th>\n",
       "      <th>time</th>\n",
       "      <th>event</th>\n",
       "      <th>player_sub</th>\n",
       "      <th>main_player</th>\n",
       "      <th>commentary</th>\n",
       "    </tr>\n",
       "  </thead>\n",
       "  <tbody>\n",
       "    <tr>\n",
       "      <th>0</th>\n",
       "      <td>89'</td>\n",
       "      <td>Yellow Card</td>\n",
       "      <td>na</td>\n",
       "      <td>K. Phillips</td>\n",
       "      <td>A hasty challenge from Kalvin Phillips now and his booking is more costly than usual; it is his fifth, earning him a one-match ban.</td>\n",
       "    </tr>\n",
       "    <tr>\n",
       "      <th>1</th>\n",
       "      <td>87'</td>\n",
       "      <td>Substitution</td>\n",
       "      <td>H. Kane</td>\n",
       "      <td>Carlos Vinícius</td>\n",
       "      <td>Harry Kane - who became a father this week - makes way for Tottenham's final change, with Carlos Vinicius on his place.</td>\n",
       "    </tr>\n",
       "    <tr>\n",
       "      <th>2</th>\n",
       "      <td>85'</td>\n",
       "      <td>Yellow Card</td>\n",
       "      <td>na</td>\n",
       "      <td>P. Højbjerg</td>\n",
       "      <td>Hojbjerg picks up a late booking here, as the minutes tick down. Tottenham will be pleased with this though; a winning start to 2021 is just what they need.</td>\n",
       "    </tr>\n",
       "    <tr>\n",
       "      <th>3</th>\n",
       "      <td>78'</td>\n",
       "      <td>Substitution</td>\n",
       "      <td>T. Ndombèlé</td>\n",
       "      <td>Lucas Moura</td>\n",
       "      <td>Tottenham make their second change now, with Ndombele making way for Lucas Moura.</td>\n",
       "    </tr>\n",
       "    <tr>\n",
       "      <th>4</th>\n",
       "      <td>76'</td>\n",
       "      <td>Substitution</td>\n",
       "      <td>H. Winks</td>\n",
       "      <td>M. Sissoko</td>\n",
       "      <td>Lloris gets a glance to this one and Ayling's return ball sails wide of the mark. Moussa Sissoko replaces Winks for the hosts.</td>\n",
       "    </tr>\n",
       "  </tbody>\n",
       "</table>\n",
       "</div>"
      ],
      "text/plain": [
       "  time         event   player_sub      main_player  \\\n",
       "0  89'   Yellow Card           na      K. Phillips   \n",
       "1  87'  Substitution      H. Kane  Carlos Vinícius   \n",
       "2  85'   Yellow Card           na      P. Højbjerg   \n",
       "3  78'  Substitution  T. Ndombèlé      Lucas Moura   \n",
       "4  76'  Substitution     H. Winks       M. Sissoko   \n",
       "\n",
       "                                                                                                                                                     commentary  \n",
       "0                           A hasty challenge from Kalvin Phillips now and his booking is more costly than usual; it is his fifth, earning him a one-match ban.  \n",
       "1                                       Harry Kane - who became a father this week - makes way for Tottenham's final change, with Carlos Vinicius on his place.  \n",
       "2  Hojbjerg picks up a late booking here, as the minutes tick down. Tottenham will be pleased with this though; a winning start to 2021 is just what they need.  \n",
       "3                                                                             Tottenham make their second change now, with Ndombele making way for Lucas Moura.  \n",
       "4                                Lloris gets a glance to this one and Ayling's return ball sails wide of the mark. Moussa Sissoko replaces Winks for the hosts.  "
      ]
     },
     "execution_count": 85,
     "metadata": {},
     "output_type": "execute_result"
    }
   ],
   "source": [
    "data.head()"
   ]
  },
  {
   "cell_type": "code",
   "execution_count": 86,
   "id": "unusual-cookbook",
   "metadata": {},
   "outputs": [],
   "source": [
    "from tensorflow.keras.preprocessing import sequence\n",
    "from tensorflow.keras.preprocessing.text import Tokenizer\n",
    "\n",
    "class Preprocessing:\n",
    "    \n",
    "    def __init__(self, data, max_len):\n",
    "        self.data = data\n",
    "        self.max_len = max_len\n",
    "        self.max_words = 500\n",
    "        \n",
    "    def prepare_tokens(self):\n",
    "        self.tokens = Tokenizer(num_words=self.max_words)\n",
    "        self.tokens.fit_on_texts(self.data)\n",
    "        \n",
    "    def sequence_to_token(self, x):\n",
    "        sequences = self.tokens.texts_to_sequences(x)\n",
    "        return sequence.pad_sequences(sequences, maxlen=self.max_len)"
   ]
  },
  {
   "cell_type": "code",
   "execution_count": 87,
   "id": "consolidated-omaha",
   "metadata": {},
   "outputs": [],
   "source": [
    "pp = Preprocessing(data['commentary'], 15)"
   ]
  },
  {
   "cell_type": "code",
   "execution_count": 88,
   "id": "major-atlanta",
   "metadata": {},
   "outputs": [],
   "source": [
    "pp.prepare_tokens()"
   ]
  },
  {
   "cell_type": "code",
   "execution_count": 74,
   "id": "limited-viewer",
   "metadata": {},
   "outputs": [],
   "source": [
    "seq = pp.sequence_to_token(data['commentary'][0])"
   ]
  },
  {
   "cell_type": "code",
   "execution_count": 75,
   "id": "elementary-infrastructure",
   "metadata": {},
   "outputs": [
    {
     "data": {
      "text/plain": [
       "array([[0, 0, 0, ..., 0, 0, 2],\n",
       "       [0, 0, 0, ..., 0, 0, 0],\n",
       "       [0, 0, 0, ..., 0, 0, 0],\n",
       "       ...,\n",
       "       [0, 0, 0, ..., 0, 0, 2],\n",
       "       [0, 0, 0, ..., 0, 0, 0],\n",
       "       [0, 0, 0, ..., 0, 0, 0]], dtype=int32)"
      ]
     },
     "execution_count": 75,
     "metadata": {},
     "output_type": "execute_result"
    }
   ],
   "source": [
    "seq"
   ]
  },
  {
   "cell_type": "code",
   "execution_count": 60,
   "id": "private-compound",
   "metadata": {},
   "outputs": [
    {
     "data": {
      "text/plain": [
       "'A hasty challenge from Kalvin Phillips now and his booking is more costly than usual; it is his fifth, earning him a one-match ban.'"
      ]
     },
     "execution_count": 60,
     "metadata": {},
     "output_type": "execute_result"
    }
   ],
   "source": [
    "data['commentary'][0]"
   ]
  },
  {
   "cell_type": "code",
   "execution_count": 89,
   "id": "standard-connecticut",
   "metadata": {},
   "outputs": [
    {
     "data": {
      "text/plain": [
       "([], ['time', 'event', 'player_sub', 'main_player'])"
      ]
     },
     "execution_count": 89,
     "metadata": {},
     "output_type": "execute_result"
    }
   ],
   "source": [
    "cont, cat = cont_cat_split(data, dep_var='commentary')\n",
    "cont, cat"
   ]
  },
  {
   "cell_type": "code",
   "execution_count": 90,
   "id": "formal-strain",
   "metadata": {},
   "outputs": [],
   "source": [
    "procs_nn = [Categorify]\n",
    "device = torch.device('cpu')\n",
    "to_nn = TabularPandas(data, procs_nn, cat,\n",
    "                      y_names='commentary', reduce_memory=False)\n",
    "dls = to_nn.dataloaders(1024, device=device)"
   ]
  },
  {
   "cell_type": "code",
   "execution_count": 91,
   "id": "grateful-insured",
   "metadata": {},
   "outputs": [
    {
     "data": {
      "text/html": [
       "<table border=\"1\" class=\"dataframe\">\n",
       "  <thead>\n",
       "    <tr style=\"text-align: left;\">\n",
       "      <th>epoch</th>\n",
       "      <th>train_loss</th>\n",
       "      <th>valid_loss</th>\n",
       "      <th>time</th>\n",
       "    </tr>\n",
       "  </thead>\n",
       "  <tbody>\n",
       "    <tr>\n",
       "      <td>0</td>\n",
       "      <td>8.042166</td>\n",
       "      <td>None</td>\n",
       "      <td>00:28</td>\n",
       "    </tr>\n",
       "    <tr>\n",
       "      <td>1</td>\n",
       "      <td>3.250052</td>\n",
       "      <td>None</td>\n",
       "      <td>00:28</td>\n",
       "    </tr>\n",
       "    <tr>\n",
       "      <td>2</td>\n",
       "      <td>1.352558</td>\n",
       "      <td>None</td>\n",
       "      <td>00:45</td>\n",
       "    </tr>\n",
       "    <tr>\n",
       "      <td>3</td>\n",
       "      <td>0.624793</td>\n",
       "      <td>None</td>\n",
       "      <td>00:45</td>\n",
       "    </tr>\n",
       "  </tbody>\n",
       "</table>"
      ],
      "text/plain": [
       "<IPython.core.display.HTML object>"
      ]
     },
     "metadata": {},
     "output_type": "display_data"
    },
    {
     "name": "stderr",
     "output_type": "stream",
     "text": [
      "/home/ROHITGANGURDE/anaconda3/envs/a7/lib/python3.7/site-packages/fastprogress/fastprogress.py:74: UserWarning: Your generator is empty.\n",
      "  warn(\"Your generator is empty.\")\n"
     ]
    }
   ],
   "source": [
    "learn = tabular_learner(dls, layers=[1000, 700, 400, 300, 400], n_out=len(data['commentary']))\n",
    "learn.fit_one_cycle(4, 5e-4)"
   ]
  },
  {
   "cell_type": "code",
   "execution_count": 92,
   "id": "pressed-compact",
   "metadata": {},
   "outputs": [],
   "source": [
    "def embed_features(learner, x):\n",
    "    x = x.copy()\n",
    "    for i, col in enumerate(learn.dls.cat_names):\n",
    "        embed = learn.model.embeds[i]\n",
    "        print(col)\n",
    "        print(x[col])\n",
    "        embed_data = embed(tensor(x[col], dtype=torch.int64).to(device))\n",
    "        embed_names = [f'{col}_{j}' for j in range(embed_data.shape[1])]\n",
    "        features = pd.DataFrame(data=embed_data, index=x.index, columns=embed_names)\n",
    "        x = x.drop(col, axis=1)\n",
    "        x = x.join(features)\n",
    "    return x"
   ]
  },
  {
   "cell_type": "code",
   "execution_count": 94,
   "id": "controlling-elements",
   "metadata": {
    "collapsed": true,
    "jupyter": {
     "outputs_hidden": true
    },
    "tags": []
   },
   "outputs": [
    {
     "name": "stdout",
     "output_type": "stream",
     "text": [
      "time\n",
      "0        74\n",
      "1        72\n",
      "2        70\n",
      "3        62\n",
      "4        60\n",
      "         ..\n",
      "39422    27\n",
      "39423    26\n",
      "39424    19\n",
      "39425    19\n",
      "39426     3\n",
      "Name: time, Length: 39427, dtype: int8\n",
      "event\n",
      "0        7\n",
      "1        6\n",
      "2        7\n",
      "3        6\n",
      "4        6\n",
      "        ..\n",
      "39422    7\n",
      "39423    7\n",
      "39424    1\n",
      "39425    2\n",
      "39426    7\n",
      "Name: event, Length: 39427, dtype: int8\n",
      "player_sub\n",
      "0        103\n",
      "1         39\n",
      "2        103\n",
      "3         96\n",
      "4         40\n",
      "        ... \n",
      "39422    103\n",
      "39423    103\n",
      "39424    103\n",
      "39425    103\n",
      "39426    103\n",
      "Name: player_sub, Length: 39427, dtype: int8\n",
      "main_player\n",
      "0        103\n",
      "1         37\n",
      "2        138\n",
      "3        111\n",
      "4        126\n",
      "        ... \n",
      "39422    112\n",
      "39423     66\n",
      "39424    180\n",
      "39425     78\n",
      "39426    176\n",
      "Name: main_player, Length: 39427, dtype: int16\n"
     ]
    }
   ],
   "source": [
    "embed_xs = embed_features(learn, to_nn.xs)"
   ]
  },
  {
   "cell_type": "code",
   "execution_count": 96,
   "id": "appointed-injury",
   "metadata": {},
   "outputs": [
    {
     "data": {
      "text/html": [
       "<div>\n",
       "<style scoped>\n",
       "    .dataframe tbody tr th:only-of-type {\n",
       "        vertical-align: middle;\n",
       "    }\n",
       "\n",
       "    .dataframe tbody tr th {\n",
       "        vertical-align: top;\n",
       "    }\n",
       "\n",
       "    .dataframe thead th {\n",
       "        text-align: right;\n",
       "    }\n",
       "</style>\n",
       "<table border=\"1\" class=\"dataframe\">\n",
       "  <thead>\n",
       "    <tr style=\"text-align: right;\">\n",
       "      <th></th>\n",
       "      <th>time_0</th>\n",
       "      <th>time_1</th>\n",
       "      <th>time_2</th>\n",
       "      <th>time_3</th>\n",
       "      <th>time_4</th>\n",
       "      <th>time_5</th>\n",
       "      <th>time_6</th>\n",
       "      <th>time_7</th>\n",
       "      <th>time_8</th>\n",
       "      <th>time_9</th>\n",
       "      <th>...</th>\n",
       "      <th>main_player_20</th>\n",
       "      <th>main_player_21</th>\n",
       "      <th>main_player_22</th>\n",
       "      <th>main_player_23</th>\n",
       "      <th>main_player_24</th>\n",
       "      <th>main_player_25</th>\n",
       "      <th>main_player_26</th>\n",
       "      <th>main_player_27</th>\n",
       "      <th>main_player_28</th>\n",
       "      <th>main_player_29</th>\n",
       "    </tr>\n",
       "  </thead>\n",
       "  <tbody>\n",
       "    <tr>\n",
       "      <th>0</th>\n",
       "      <td>-0.020288</td>\n",
       "      <td>0.003959</td>\n",
       "      <td>-0.011660</td>\n",
       "      <td>-0.001130</td>\n",
       "      <td>0.010240</td>\n",
       "      <td>-0.003644</td>\n",
       "      <td>-0.000574</td>\n",
       "      <td>0.009377</td>\n",
       "      <td>-0.016221</td>\n",
       "      <td>-0.006467</td>\n",
       "      <td>...</td>\n",
       "      <td>-0.016803</td>\n",
       "      <td>0.004418</td>\n",
       "      <td>0.009490</td>\n",
       "      <td>0.007831</td>\n",
       "      <td>-0.005404</td>\n",
       "      <td>0.012244</td>\n",
       "      <td>0.007176</td>\n",
       "      <td>0.006890</td>\n",
       "      <td>-0.008660</td>\n",
       "      <td>-0.006264</td>\n",
       "    </tr>\n",
       "    <tr>\n",
       "      <th>1</th>\n",
       "      <td>0.004089</td>\n",
       "      <td>-0.001297</td>\n",
       "      <td>-0.009571</td>\n",
       "      <td>-0.007007</td>\n",
       "      <td>0.002438</td>\n",
       "      <td>-0.002379</td>\n",
       "      <td>-0.000666</td>\n",
       "      <td>-0.008988</td>\n",
       "      <td>0.006091</td>\n",
       "      <td>-0.015454</td>\n",
       "      <td>...</td>\n",
       "      <td>-0.004803</td>\n",
       "      <td>-0.013276</td>\n",
       "      <td>-0.009412</td>\n",
       "      <td>-0.000770</td>\n",
       "      <td>0.009372</td>\n",
       "      <td>-0.004189</td>\n",
       "      <td>-0.006955</td>\n",
       "      <td>0.011875</td>\n",
       "      <td>-0.010172</td>\n",
       "      <td>0.002468</td>\n",
       "    </tr>\n",
       "    <tr>\n",
       "      <th>2</th>\n",
       "      <td>-0.013490</td>\n",
       "      <td>-0.010492</td>\n",
       "      <td>-0.009037</td>\n",
       "      <td>0.006320</td>\n",
       "      <td>-0.007285</td>\n",
       "      <td>-0.005040</td>\n",
       "      <td>0.003885</td>\n",
       "      <td>0.017270</td>\n",
       "      <td>0.022771</td>\n",
       "      <td>-0.005183</td>\n",
       "      <td>...</td>\n",
       "      <td>-0.008552</td>\n",
       "      <td>0.006543</td>\n",
       "      <td>0.002609</td>\n",
       "      <td>-0.006397</td>\n",
       "      <td>-0.001587</td>\n",
       "      <td>0.003737</td>\n",
       "      <td>-0.014760</td>\n",
       "      <td>-0.006371</td>\n",
       "      <td>0.005499</td>\n",
       "      <td>0.006144</td>\n",
       "    </tr>\n",
       "    <tr>\n",
       "      <th>3</th>\n",
       "      <td>-0.006778</td>\n",
       "      <td>0.004057</td>\n",
       "      <td>-0.008310</td>\n",
       "      <td>-0.012266</td>\n",
       "      <td>0.011967</td>\n",
       "      <td>0.003065</td>\n",
       "      <td>-0.015615</td>\n",
       "      <td>-0.010273</td>\n",
       "      <td>-0.008508</td>\n",
       "      <td>-0.005554</td>\n",
       "      <td>...</td>\n",
       "      <td>-0.002602</td>\n",
       "      <td>0.005265</td>\n",
       "      <td>0.004084</td>\n",
       "      <td>0.003608</td>\n",
       "      <td>-0.011681</td>\n",
       "      <td>0.008063</td>\n",
       "      <td>0.012082</td>\n",
       "      <td>-0.004978</td>\n",
       "      <td>-0.016104</td>\n",
       "      <td>0.018137</td>\n",
       "    </tr>\n",
       "    <tr>\n",
       "      <th>4</th>\n",
       "      <td>-0.012479</td>\n",
       "      <td>0.016021</td>\n",
       "      <td>0.006382</td>\n",
       "      <td>0.001375</td>\n",
       "      <td>0.006784</td>\n",
       "      <td>0.005326</td>\n",
       "      <td>-0.004663</td>\n",
       "      <td>0.003616</td>\n",
       "      <td>0.002764</td>\n",
       "      <td>-0.000717</td>\n",
       "      <td>...</td>\n",
       "      <td>0.002206</td>\n",
       "      <td>-0.008704</td>\n",
       "      <td>0.010753</td>\n",
       "      <td>0.001466</td>\n",
       "      <td>0.002518</td>\n",
       "      <td>0.006115</td>\n",
       "      <td>-0.008925</td>\n",
       "      <td>-0.000543</td>\n",
       "      <td>-0.002836</td>\n",
       "      <td>-0.025285</td>\n",
       "    </tr>\n",
       "  </tbody>\n",
       "</table>\n",
       "<p>5 rows × 76 columns</p>\n",
       "</div>"
      ],
      "text/plain": [
       "     time_0    time_1    time_2    time_3    time_4    time_5    time_6  \\\n",
       "0 -0.020288  0.003959 -0.011660 -0.001130  0.010240 -0.003644 -0.000574   \n",
       "1  0.004089 -0.001297 -0.009571 -0.007007  0.002438 -0.002379 -0.000666   \n",
       "2 -0.013490 -0.010492 -0.009037  0.006320 -0.007285 -0.005040  0.003885   \n",
       "3 -0.006778  0.004057 -0.008310 -0.012266  0.011967  0.003065 -0.015615   \n",
       "4 -0.012479  0.016021  0.006382  0.001375  0.006784  0.005326 -0.004663   \n",
       "\n",
       "     time_7    time_8    time_9  ...  main_player_20  main_player_21  \\\n",
       "0  0.009377 -0.016221 -0.006467  ...       -0.016803        0.004418   \n",
       "1 -0.008988  0.006091 -0.015454  ...       -0.004803       -0.013276   \n",
       "2  0.017270  0.022771 -0.005183  ...       -0.008552        0.006543   \n",
       "3 -0.010273 -0.008508 -0.005554  ...       -0.002602        0.005265   \n",
       "4  0.003616  0.002764 -0.000717  ...        0.002206       -0.008704   \n",
       "\n",
       "   main_player_22  main_player_23  main_player_24  main_player_25  \\\n",
       "0        0.009490        0.007831       -0.005404        0.012244   \n",
       "1       -0.009412       -0.000770        0.009372       -0.004189   \n",
       "2        0.002609       -0.006397       -0.001587        0.003737   \n",
       "3        0.004084        0.003608       -0.011681        0.008063   \n",
       "4        0.010753        0.001466        0.002518        0.006115   \n",
       "\n",
       "   main_player_26  main_player_27  main_player_28  main_player_29  \n",
       "0        0.007176        0.006890       -0.008660       -0.006264  \n",
       "1       -0.006955        0.011875       -0.010172        0.002468  \n",
       "2       -0.014760       -0.006371        0.005499        0.006144  \n",
       "3        0.012082       -0.004978       -0.016104        0.018137  \n",
       "4       -0.008925       -0.000543       -0.002836       -0.025285  \n",
       "\n",
       "[5 rows x 76 columns]"
      ]
     },
     "execution_count": 96,
     "metadata": {},
     "output_type": "execute_result"
    }
   ],
   "source": [
    "embed_xs.head()"
   ]
  },
  {
   "cell_type": "code",
   "execution_count": 99,
   "id": "separated-morgan",
   "metadata": {},
   "outputs": [],
   "source": [
    "data['tok_comm'] = data['commentary'].apply(lambda x : pp.sequence_to_token(x))"
   ]
  },
  {
   "cell_type": "code",
   "execution_count": 78,
   "id": "objective-stocks",
   "metadata": {},
   "outputs": [],
   "source": [
    "commentary = data['commentary']\n",
    "data = data.drop('commentary', axis=1)"
   ]
  },
  {
   "cell_type": "code",
   "execution_count": 101,
   "id": "fancy-simpson",
   "metadata": {},
   "outputs": [],
   "source": [
    "from sklearn.model_selection import train_test_split\n",
    "\n",
    "x_tr, x_te, y_tr, y_te = train_test_split(embed_xs, data['tok_comm'],\n",
    "                                          test_size=0.33, random_state=42)"
   ]
  },
  {
   "cell_type": "code",
   "execution_count": 209,
   "id": "stopped-donna",
   "metadata": {},
   "outputs": [
    {
     "name": "stdout",
     "output_type": "stream",
     "text": [
      "Linear(in_features=76, out_features=276, bias=True)\n"
     ]
    }
   ],
   "source": [
    "\"\"\"\n",
    "    Network Process\n",
    "\"\"\"\n",
    "\n",
    "# x_tr = torch.FloatTensor(x_tr.values)\n",
    "# x_te = torch.FloatTensor(x_te.values)\n",
    "\n",
    "fc1 = torch.nn.Linear(x_tr.shape[1], 200)\n",
    "tanh = torch.nn.Tanh()\n",
    "fc2 = torch.nn.Linear(200, x_tr.shape[1])\n",
    "dropout = torch.nn.Dropout(p=0.4)\n",
    "# batch = torch.nn.BatchNorm1d(x_tr.shape[1])\n",
    "h = torch.nn.Linear(embed_xs.shape[1], 276)\n",
    "h2 = torch.nn.Linear(276, 1)\n",
    "print(h)\n",
    "# gc = torch.sigmoid(torch.mm(h.weight, h) + h.bias)"
   ]
  },
  {
   "cell_type": "code",
   "execution_count": 212,
   "id": "facial-draft",
   "metadata": {},
   "outputs": [],
   "source": [
    "lay1 = fc1(x_tr[0])\n",
    "tanh_ = tanh(lay1)\n",
    "lay2 = fc2(tanh_)\n",
    "drop = dropout(lay2)\n",
    "# batch_ = batch(drop)\n",
    "h_ = h(drop)\n",
    "sig = torch.nn.Sigmoid()\n",
    "gc = sig(torch.mm(h.weight.T, torch.reshape(h_, (len(h_),1))) + h.bias)\n"
   ]
  },
  {
   "cell_type": "code",
   "execution_count": 211,
   "id": "continent-modeling",
   "metadata": {},
   "outputs": [
    {
     "data": {
      "text/plain": [
       "(torch.Size([1, 276]), torch.Size([276]), torch.Size([76]))"
      ]
     },
     "execution_count": 211,
     "metadata": {},
     "output_type": "execute_result"
    }
   ],
   "source": [
    "h2.weight.shape, h_.shape, x_tr[0].shape"
   ]
  },
  {
   "cell_type": "code",
   "execution_count": 194,
   "id": "focused-effect",
   "metadata": {},
   "outputs": [
    {
     "data": {
      "text/plain": [
       "torch.Size([200, 1])"
      ]
     },
     "execution_count": 194,
     "metadata": {},
     "output_type": "execute_result"
    }
   ],
   "source": [
    "torch.reshape(h_, (len(h_),1)).shape"
   ]
  },
  {
   "cell_type": "code",
   "execution_count": 163,
   "id": "matched-philippines",
   "metadata": {},
   "outputs": [
    {
     "data": {
      "text/plain": [
       "torch.Size([2, 76])"
      ]
     },
     "execution_count": 163,
     "metadata": {},
     "output_type": "execute_result"
    }
   ],
   "source": [
    "torch.mm(h_,x_tr[0:2]).shape"
   ]
  },
  {
   "cell_type": "code",
   "execution_count": 171,
   "id": "solar-mumbai",
   "metadata": {},
   "outputs": [
    {
     "data": {
      "text/plain": [
       "torch.Size([76, 76])"
      ]
     },
     "execution_count": 171,
     "metadata": {},
     "output_type": "execute_result"
    }
   ],
   "source": [
    "torch.mm(h2.weight,torch.mm(h_,x_tr[0:2])).shape"
   ]
  },
  {
   "cell_type": "code",
   "execution_count": 175,
   "id": "ambient-michael",
   "metadata": {},
   "outputs": [
    {
     "data": {
      "text/plain": [
       "tensor([0.5562, 0.5094], grad_fn=<SelectBackward>)"
      ]
     },
     "execution_count": 175,
     "metadata": {},
     "output_type": "execute_result"
    }
   ],
   "source": [
    "h2.weight["
   ]
  },
  {
   "cell_type": "code",
   "execution_count": null,
   "id": "prompt-attachment",
   "metadata": {},
   "outputs": [],
   "source": []
  }
 ],
 "metadata": {
  "kernelspec": {
   "display_name": "a7",
   "language": "python",
   "name": "a7"
  },
  "language_info": {
   "codemirror_mode": {
    "name": "ipython",
    "version": 3
   },
   "file_extension": ".py",
   "mimetype": "text/x-python",
   "name": "python",
   "nbconvert_exporter": "python",
   "pygments_lexer": "ipython3",
   "version": "3.7.10"
  }
 },
 "nbformat": 4,
 "nbformat_minor": 5
}
