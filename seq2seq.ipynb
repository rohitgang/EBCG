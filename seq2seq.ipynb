{
 "cells": [
  {
   "cell_type": "code",
   "execution_count": 1,
   "id": "distributed-biotechnology",
   "metadata": {},
   "outputs": [],
   "source": [
    "import torch\n",
    "import torch.nn as nn\n",
    "import torch.optim as optim\n",
    "import torch.nn.functional as F\n",
    "import numpy as np\n",
    "import pandas as pd\n",
    "import os\n",
    "import re\n",
    "import random\n",
    "\n",
    "device = torch.device('cpu')"
   ]
  },
  {
   "cell_type": "code",
   "execution_count": null,
   "id": "knowing-signal",
   "metadata": {},
   "outputs": [],
   "source": [
    "eos_token = 1\n",
    "max_length = 25\n",
    "\n",
    "class Language:\n",
    "    \n",
    "    def __init__(self):\n",
    "        \n",
    "        self.wrd2idx = {}\n",
    "        self.wrd2cnt = {}\n",
    "        self.idx2wrd = {0: 'SOS',\n",
    "                        1 : 'EOS'}\n",
    "        self.index = 2\n",
    "    \n",
    "    def addSentence(self, sentence):\n",
    "        for word in sentence.split():\n",
    "            self.addWord(word)\n",
    "            \n",
    "    def addWord(self, word):\n",
    "        if word not in self.wrd2idx.keys():\n",
    "            self.wrd2idx[word] = self.index\n",
    "            self.wrd2cnt[word] = 1\n",
    "            self.idx2wrd[self.index] = word\n",
    "            self.index += 1\n",
    "        else:\n",
    "            self.wrd2cnt[word] += 1\n",
    "            \n",
    "class Preprocessor:\n",
    "    \n",
    "    def __init__(self, lang):\n",
    "        \n",
    "        self.language = lang\n",
    "        self.processes = ['lower','word','']"
   ]
  }
 ],
 "metadata": {
  "kernelspec": {
   "display_name": "a7",
   "language": "python",
   "name": "a7"
  },
  "language_info": {
   "codemirror_mode": {
    "name": "ipython",
    "version": 3
   },
   "file_extension": ".py",
   "mimetype": "text/x-python",
   "name": "python",
   "nbconvert_exporter": "python",
   "pygments_lexer": "ipython3",
   "version": "3.7.10"
  }
 },
 "nbformat": 4,
 "nbformat_minor": 5
}
